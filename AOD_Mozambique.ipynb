{
  "nbformat": 4,
  "nbformat_minor": 0,
  "metadata": {
    "colab": {
      "provenance": [],
      "authorship_tag": "ABX9TyNMZhermwtZdql7QrrH2wHz",
      "include_colab_link": true
    },
    "kernelspec": {
      "name": "python3",
      "display_name": "Python 3"
    },
    "language_info": {
      "name": "python"
    }
  },
  "cells": [
    {
      "cell_type": "markdown",
      "metadata": {
        "id": "view-in-github",
        "colab_type": "text"
      },
      "source": [
        "<a href=\"https://colab.research.google.com/github/Hbnyoni/CHEAQI-Dynamic-Indicators/blob/main/AOD_Mozambique.ipynb\" target=\"_parent\"><img src=\"https://colab.research.google.com/assets/colab-badge.svg\" alt=\"Open In Colab\"/></a>"
      ]
    },
    {
      "cell_type": "code",
      "execution_count": 7,
      "metadata": {
        "id": "j7_R6T3-vaAk",
        "colab": {
          "base_uri": "https://localhost:8080/",
          "height": 1000
        },
        "outputId": "856118ec-c95a-4f5f-fd76-226a12e8de81"
      },
      "outputs": [
        {
          "output_type": "display_data",
          "data": {
            "text/plain": [
              "<IPython.core.display.HTML object>"
            ],
            "text/html": [
              "\n",
              "            <style>\n",
              "                .geemap-dark {\n",
              "                    --jp-widgets-color: white;\n",
              "                    --jp-widgets-label-color: white;\n",
              "                    --jp-ui-font-color1: white;\n",
              "                    --jp-layout-color2: #454545;\n",
              "                    background-color: #383838;\n",
              "                }\n",
              "\n",
              "                .geemap-dark .jupyter-button {\n",
              "                    --jp-layout-color3: #383838;\n",
              "                }\n",
              "\n",
              "                .geemap-colab {\n",
              "                    background-color: var(--colab-primary-surface-color, white);\n",
              "                }\n",
              "\n",
              "                .geemap-colab .jupyter-button {\n",
              "                    --jp-layout-color3: var(--colab-primary-surface-color, white);\n",
              "                }\n",
              "            </style>\n",
              "            "
            ]
          },
          "metadata": {}
        },
        {
          "output_type": "stream",
          "name": "stdout",
          "text": [
            "Requirement already satisfied: geehydro in c:\\users\\user\\appdata\\local\\programs\\python\\python312\\lib\\site-packages (0.2.0)\n",
            "Requirement already satisfied: earthengine-api in c:\\users\\user\\appdata\\local\\programs\\python\\python312\\lib\\site-packages (from geehydro) (1.1.0)\n",
            "Requirement already satisfied: folium in c:\\users\\user\\appdata\\local\\programs\\python\\python312\\lib\\site-packages (from geehydro) (0.17.0)\n",
            "Requirement already satisfied: click in c:\\users\\user\\appdata\\local\\programs\\python\\python312\\lib\\site-packages (from geehydro) (8.1.7)\n",
            "Requirement already satisfied: colorama in c:\\users\\user\\appdata\\local\\programs\\python\\python312\\lib\\site-packages (from click->geehydro) (0.4.6)\n",
            "Requirement already satisfied: google-cloud-storage in c:\\users\\user\\appdata\\local\\programs\\python\\python312\\lib\\site-packages (from earthengine-api->geehydro) (2.18.2)\n",
            "Requirement already satisfied: google-api-python-client>=1.12.1 in c:\\users\\user\\appdata\\local\\programs\\python\\python312\\lib\\site-packages (from earthengine-api->geehydro) (2.146.0)\n",
            "Requirement already satisfied: google-auth>=1.4.1 in c:\\users\\user\\appdata\\local\\programs\\python\\python312\\lib\\site-packages (from earthengine-api->geehydro) (2.34.0)\n",
            "Requirement already satisfied: google-auth-httplib2>=0.0.3 in c:\\users\\user\\appdata\\local\\programs\\python\\python312\\lib\\site-packages (from earthengine-api->geehydro) (0.2.0)\n",
            "Requirement already satisfied: httplib2<1dev,>=0.9.2 in c:\\users\\user\\appdata\\local\\programs\\python\\python312\\lib\\site-packages (from earthengine-api->geehydro) (0.22.0)\n",
            "Requirement already satisfied: requests in c:\\users\\user\\appdata\\local\\programs\\python\\python312\\lib\\site-packages (from earthengine-api->geehydro) (2.32.3)\n",
            "Requirement already satisfied: branca>=0.6.0 in c:\\users\\user\\appdata\\local\\programs\\python\\python312\\lib\\site-packages (from folium->geehydro) (0.7.2)\n",
            "Requirement already satisfied: jinja2>=2.9 in c:\\users\\user\\appdata\\local\\programs\\python\\python312\\lib\\site-packages (from folium->geehydro) (3.1.4)\n",
            "Requirement already satisfied: numpy in c:\\users\\user\\appdata\\local\\programs\\python\\python312\\lib\\site-packages (from folium->geehydro) (2.0.1)\n",
            "Requirement already satisfied: xyzservices in c:\\users\\user\\appdata\\local\\programs\\python\\python312\\lib\\site-packages (from folium->geehydro) (2024.9.0)\n",
            "Requirement already satisfied: google-api-core!=2.0.*,!=2.1.*,!=2.2.*,!=2.3.0,<3.0.0.dev0,>=1.31.5 in c:\\users\\user\\appdata\\local\\programs\\python\\python312\\lib\\site-packages (from google-api-python-client>=1.12.1->earthengine-api->geehydro) (2.19.2)\n",
            "Requirement already satisfied: uritemplate<5,>=3.0.1 in c:\\users\\user\\appdata\\local\\programs\\python\\python312\\lib\\site-packages (from google-api-python-client>=1.12.1->earthengine-api->geehydro) (4.1.1)\n",
            "Requirement already satisfied: cachetools<6.0,>=2.0.0 in c:\\users\\user\\appdata\\local\\programs\\python\\python312\\lib\\site-packages (from google-auth>=1.4.1->earthengine-api->geehydro) (5.5.0)\n",
            "Requirement already satisfied: pyasn1-modules>=0.2.1 in c:\\users\\user\\appdata\\local\\programs\\python\\python312\\lib\\site-packages (from google-auth>=1.4.1->earthengine-api->geehydro) (0.4.1)\n",
            "Requirement already satisfied: rsa<5,>=3.1.4 in c:\\users\\user\\appdata\\local\\programs\\python\\python312\\lib\\site-packages (from google-auth>=1.4.1->earthengine-api->geehydro) (4.9)\n",
            "Requirement already satisfied: pyparsing!=3.0.0,!=3.0.1,!=3.0.2,!=3.0.3,<4,>=2.4.2 in c:\\users\\user\\appdata\\local\\programs\\python\\python312\\lib\\site-packages (from httplib2<1dev,>=0.9.2->earthengine-api->geehydro) (3.1.2)\n",
            "Requirement already satisfied: MarkupSafe>=2.0 in c:\\users\\user\\appdata\\local\\programs\\python\\python312\\lib\\site-packages (from jinja2>=2.9->folium->geehydro) (2.1.5)\n",
            "Requirement already satisfied: google-cloud-core<3.0dev,>=2.3.0 in c:\\users\\user\\appdata\\local\\programs\\python\\python312\\lib\\site-packages (from google-cloud-storage->earthengine-api->geehydro) (2.4.1)\n",
            "Requirement already satisfied: google-resumable-media>=2.7.2 in c:\\users\\user\\appdata\\local\\programs\\python\\python312\\lib\\site-packages (from google-cloud-storage->earthengine-api->geehydro) (2.7.2)\n",
            "Requirement already satisfied: google-crc32c<2.0dev,>=1.0 in c:\\users\\user\\appdata\\local\\programs\\python\\python312\\lib\\site-packages (from google-cloud-storage->earthengine-api->geehydro) (1.6.0)\n",
            "Requirement already satisfied: charset-normalizer<4,>=2 in c:\\users\\user\\appdata\\local\\programs\\python\\python312\\lib\\site-packages (from requests->earthengine-api->geehydro) (3.3.2)\n",
            "Requirement already satisfied: idna<4,>=2.5 in c:\\users\\user\\appdata\\local\\programs\\python\\python312\\lib\\site-packages (from requests->earthengine-api->geehydro) (3.7)\n",
            "Requirement already satisfied: urllib3<3,>=1.21.1 in c:\\users\\user\\appdata\\local\\programs\\python\\python312\\lib\\site-packages (from requests->earthengine-api->geehydro) (2.2.2)\n",
            "Requirement already satisfied: certifi>=2017.4.17 in c:\\users\\user\\appdata\\local\\programs\\python\\python312\\lib\\site-packages (from requests->earthengine-api->geehydro) (2024.6.2)\n",
            "Requirement already satisfied: googleapis-common-protos<2.0.dev0,>=1.56.2 in c:\\users\\user\\appdata\\local\\programs\\python\\python312\\lib\\site-packages (from google-api-core!=2.0.*,!=2.1.*,!=2.2.*,!=2.3.0,<3.0.0.dev0,>=1.31.5->google-api-python-client>=1.12.1->earthengine-api->geehydro) (1.65.0)\n",
            "Requirement already satisfied: protobuf!=3.20.0,!=3.20.1,!=4.21.0,!=4.21.1,!=4.21.2,!=4.21.3,!=4.21.4,!=4.21.5,<6.0.0.dev0,>=3.19.5 in c:\\users\\user\\appdata\\local\\programs\\python\\python312\\lib\\site-packages (from google-api-core!=2.0.*,!=2.1.*,!=2.2.*,!=2.3.0,<3.0.0.dev0,>=1.31.5->google-api-python-client>=1.12.1->earthengine-api->geehydro) (5.28.1)\n",
            "Requirement already satisfied: proto-plus<2.0.0dev,>=1.22.3 in c:\\users\\user\\appdata\\local\\programs\\python\\python312\\lib\\site-packages (from google-api-core!=2.0.*,!=2.1.*,!=2.2.*,!=2.3.0,<3.0.0.dev0,>=1.31.5->google-api-python-client>=1.12.1->earthengine-api->geehydro) (1.24.0)\n",
            "Requirement already satisfied: pyasn1<0.7.0,>=0.4.6 in c:\\users\\user\\appdata\\local\\programs\\python\\python312\\lib\\site-packages (from pyasn1-modules>=0.2.1->google-auth>=1.4.1->earthengine-api->geehydro) (0.6.1)\n"
          ]
        },
        {
          "output_type": "stream",
          "name": "stderr",
          "text": [
            "\n",
            "[notice] A new release of pip is available: 24.0 -> 24.2\n",
            "[notice] To update, run: python.exe -m pip install --upgrade pip\n"
          ]
        },
        {
          "output_type": "stream",
          "name": "stdout",
          "text": [
            "Requirement already satisfied: rioxarray in c:\\users\\user\\appdata\\local\\programs\\python\\python312\\lib\\site-packages (0.17.0)\n",
            "Requirement already satisfied: packaging in c:\\users\\user\\appdata\\local\\programs\\python\\python312\\lib\\site-packages (from rioxarray) (24.1)\n",
            "Requirement already satisfied: rasterio>=1.3 in c:\\users\\user\\appdata\\local\\programs\\python\\python312\\lib\\site-packages (from rioxarray) (1.3.11)\n",
            "Requirement already satisfied: xarray>=2022.3.0 in c:\\users\\user\\appdata\\local\\programs\\python\\python312\\lib\\site-packages (from rioxarray) (2024.9.0)\n",
            "Requirement already satisfied: pyproj>=3.3 in c:\\users\\user\\appdata\\local\\programs\\python\\python312\\lib\\site-packages (from rioxarray) (3.6.1)\n",
            "Requirement already satisfied: numpy>=1.23 in c:\\users\\user\\appdata\\local\\programs\\python\\python312\\lib\\site-packages (from rioxarray) (2.0.1)\n",
            "Requirement already satisfied: certifi in c:\\users\\user\\appdata\\local\\programs\\python\\python312\\lib\\site-packages (from pyproj>=3.3->rioxarray) (2024.6.2)\n",
            "Requirement already satisfied: affine in c:\\users\\user\\appdata\\local\\programs\\python\\python312\\lib\\site-packages (from rasterio>=1.3->rioxarray) (2.4.0)\n",
            "Requirement already satisfied: attrs in c:\\users\\user\\appdata\\local\\programs\\python\\python312\\lib\\site-packages (from rasterio>=1.3->rioxarray) (23.2.0)\n",
            "Requirement already satisfied: click>=4.0 in c:\\users\\user\\appdata\\local\\programs\\python\\python312\\lib\\site-packages (from rasterio>=1.3->rioxarray) (8.1.7)\n",
            "Requirement already satisfied: cligj>=0.5 in c:\\users\\user\\appdata\\local\\programs\\python\\python312\\lib\\site-packages (from rasterio>=1.3->rioxarray) (0.7.2)\n",
            "Requirement already satisfied: snuggs>=1.4.1 in c:\\users\\user\\appdata\\local\\programs\\python\\python312\\lib\\site-packages (from rasterio>=1.3->rioxarray) (1.4.7)\n",
            "Requirement already satisfied: click-plugins in c:\\users\\user\\appdata\\local\\programs\\python\\python312\\lib\\site-packages (from rasterio>=1.3->rioxarray) (1.1.1)\n",
            "Requirement already satisfied: setuptools in c:\\users\\user\\appdata\\local\\programs\\python\\python312\\lib\\site-packages (from rasterio>=1.3->rioxarray) (70.0.0)\n",
            "Requirement already satisfied: pandas>=2.1 in c:\\users\\user\\appdata\\local\\programs\\python\\python312\\lib\\site-packages (from xarray>=2022.3.0->rioxarray) (2.2.2)\n",
            "Requirement already satisfied: colorama in c:\\users\\user\\appdata\\local\\programs\\python\\python312\\lib\\site-packages (from click>=4.0->rasterio>=1.3->rioxarray) (0.4.6)\n",
            "Requirement already satisfied: python-dateutil>=2.8.2 in c:\\users\\user\\appdata\\local\\programs\\python\\python312\\lib\\site-packages (from pandas>=2.1->xarray>=2022.3.0->rioxarray) (2.9.0.post0)\n",
            "Requirement already satisfied: pytz>=2020.1 in c:\\users\\user\\appdata\\local\\programs\\python\\python312\\lib\\site-packages (from pandas>=2.1->xarray>=2022.3.0->rioxarray) (2024.1)\n",
            "Requirement already satisfied: tzdata>=2022.7 in c:\\users\\user\\appdata\\local\\programs\\python\\python312\\lib\\site-packages (from pandas>=2.1->xarray>=2022.3.0->rioxarray) (2024.1)\n",
            "Requirement already satisfied: pyparsing>=2.1.6 in c:\\users\\user\\appdata\\local\\programs\\python\\python312\\lib\\site-packages (from snuggs>=1.4.1->rasterio>=1.3->rioxarray) (3.1.2)\n",
            "Requirement already satisfied: six>=1.5 in c:\\users\\user\\appdata\\local\\programs\\python\\python312\\lib\\site-packages (from python-dateutil>=2.8.2->pandas>=2.1->xarray>=2022.3.0->rioxarray) (1.16.0)\n"
          ]
        },
        {
          "output_type": "stream",
          "name": "stderr",
          "text": [
            "\n",
            "[notice] A new release of pip is available: 24.0 -> 24.2\n",
            "[notice] To update, run: python.exe -m pip install --upgrade pip\n",
            "'apt' is not recognized as an internal or external command,\n",
            "operable program or batch file.\n"
          ]
        },
        {
          "output_type": "stream",
          "name": "stdout",
          "text": [
            "Requirement already satisfied: fiona in c:\\users\\user\\appdata\\local\\programs\\python\\python312\\lib\\site-packages (1.10.1)\n",
            "Requirement already satisfied: attrs>=19.2.0 in c:\\users\\user\\appdata\\local\\programs\\python\\python312\\lib\\site-packages (from fiona) (23.2.0)\n",
            "Requirement already satisfied: certifi in c:\\users\\user\\appdata\\local\\programs\\python\\python312\\lib\\site-packages (from fiona) (2024.6.2)\n",
            "Requirement already satisfied: click~=8.0 in c:\\users\\user\\appdata\\local\\programs\\python\\python312\\lib\\site-packages (from fiona) (8.1.7)\n",
            "Requirement already satisfied: click-plugins>=1.0 in c:\\users\\user\\appdata\\local\\programs\\python\\python312\\lib\\site-packages (from fiona) (1.1.1)\n",
            "Requirement already satisfied: cligj>=0.5 in c:\\users\\user\\appdata\\local\\programs\\python\\python312\\lib\\site-packages (from fiona) (0.7.2)\n",
            "Requirement already satisfied: colorama in c:\\users\\user\\appdata\\local\\programs\\python\\python312\\lib\\site-packages (from click~=8.0->fiona) (0.4.6)\n"
          ]
        },
        {
          "output_type": "stream",
          "name": "stderr",
          "text": [
            "\n",
            "[notice] A new release of pip is available: 24.0 -> 24.2\n",
            "[notice] To update, run: python.exe -m pip install --upgrade pip\n"
          ]
        },
        {
          "output_type": "stream",
          "name": "stdout",
          "text": [
            "Requirement already satisfied: rasterio in c:\\users\\user\\appdata\\local\\programs\\python\\python312\\lib\\site-packages (1.3.11)\n",
            "Requirement already satisfied: affine in c:\\users\\user\\appdata\\local\\programs\\python\\python312\\lib\\site-packages (from rasterio) (2.4.0)\n",
            "Requirement already satisfied: attrs in c:\\users\\user\\appdata\\local\\programs\\python\\python312\\lib\\site-packages (from rasterio) (23.2.0)\n",
            "Requirement already satisfied: certifi in c:\\users\\user\\appdata\\local\\programs\\python\\python312\\lib\\site-packages (from rasterio) (2024.6.2)\n",
            "Requirement already satisfied: click>=4.0 in c:\\users\\user\\appdata\\local\\programs\\python\\python312\\lib\\site-packages (from rasterio) (8.1.7)\n",
            "Requirement already satisfied: cligj>=0.5 in c:\\users\\user\\appdata\\local\\programs\\python\\python312\\lib\\site-packages (from rasterio) (0.7.2)\n",
            "Requirement already satisfied: numpy in c:\\users\\user\\appdata\\local\\programs\\python\\python312\\lib\\site-packages (from rasterio) (2.0.1)\n",
            "Requirement already satisfied: snuggs>=1.4.1 in c:\\users\\user\\appdata\\local\\programs\\python\\python312\\lib\\site-packages (from rasterio) (1.4.7)\n",
            "Requirement already satisfied: click-plugins in c:\\users\\user\\appdata\\local\\programs\\python\\python312\\lib\\site-packages (from rasterio) (1.1.1)\n",
            "Requirement already satisfied: setuptools in c:\\users\\user\\appdata\\local\\programs\\python\\python312\\lib\\site-packages (from rasterio) (70.0.0)\n",
            "Requirement already satisfied: colorama in c:\\users\\user\\appdata\\local\\programs\\python\\python312\\lib\\site-packages (from click>=4.0->rasterio) (0.4.6)\n",
            "Requirement already satisfied: pyparsing>=2.1.6 in c:\\users\\user\\appdata\\local\\programs\\python\\python312\\lib\\site-packages (from snuggs>=1.4.1->rasterio) (3.1.2)\n"
          ]
        },
        {
          "output_type": "stream",
          "name": "stderr",
          "text": [
            "\n",
            "[notice] A new release of pip is available: 24.0 -> 24.2\n",
            "[notice] To update, run: python.exe -m pip install --upgrade pip\n"
          ]
        },
        {
          "output_type": "stream",
          "name": "stdout",
          "text": [
            "Requirement already satisfied: folium in c:\\users\\user\\appdata\\local\\programs\\python\\python312\\lib\\site-packages (0.17.0)\n",
            "Requirement already satisfied: branca>=0.6.0 in c:\\users\\user\\appdata\\local\\programs\\python\\python312\\lib\\site-packages (from folium) (0.7.2)\n",
            "Requirement already satisfied: jinja2>=2.9 in c:\\users\\user\\appdata\\local\\programs\\python\\python312\\lib\\site-packages (from folium) (3.1.4)\n",
            "Requirement already satisfied: numpy in c:\\users\\user\\appdata\\local\\programs\\python\\python312\\lib\\site-packages (from folium) (2.0.1)\n",
            "Requirement already satisfied: requests in c:\\users\\user\\appdata\\local\\programs\\python\\python312\\lib\\site-packages (from folium) (2.32.3)\n",
            "Requirement already satisfied: xyzservices in c:\\users\\user\\appdata\\local\\programs\\python\\python312\\lib\\site-packages (from folium) (2024.9.0)\n",
            "Requirement already satisfied: MarkupSafe>=2.0 in c:\\users\\user\\appdata\\local\\programs\\python\\python312\\lib\\site-packages (from jinja2>=2.9->folium) (2.1.5)\n",
            "Requirement already satisfied: charset-normalizer<4,>=2 in c:\\users\\user\\appdata\\local\\programs\\python\\python312\\lib\\site-packages (from requests->folium) (3.3.2)\n",
            "Requirement already satisfied: idna<4,>=2.5 in c:\\users\\user\\appdata\\local\\programs\\python\\python312\\lib\\site-packages (from requests->folium) (3.7)\n",
            "Requirement already satisfied: urllib3<3,>=1.21.1 in c:\\users\\user\\appdata\\local\\programs\\python\\python312\\lib\\site-packages (from requests->folium) (2.2.2)\n",
            "Requirement already satisfied: certifi>=2017.4.17 in c:\\users\\user\\appdata\\local\\programs\\python\\python312\\lib\\site-packages (from requests->folium) (2024.6.2)\n"
          ]
        },
        {
          "output_type": "stream",
          "name": "stderr",
          "text": [
            "\n",
            "[notice] A new release of pip is available: 24.0 -> 24.2\n",
            "[notice] To update, run: python.exe -m pip install --upgrade pip\n"
          ]
        },
        {
          "output_type": "stream",
          "name": "stdout",
          "text": [
            "Requirement already satisfied: geemap in c:\\users\\user\\appdata\\local\\programs\\python\\python312\\lib\\site-packages (0.34.2)\n",
            "Requirement already satisfied: bqplot in c:\\users\\user\\appdata\\local\\programs\\python\\python312\\lib\\site-packages (from geemap) (0.12.43)\n",
            "Requirement already satisfied: colour in c:\\users\\user\\appdata\\local\\programs\\python\\python312\\lib\\site-packages (from geemap) (0.1.5)\n",
            "Requirement already satisfied: earthengine-api>=0.1.347 in c:\\users\\user\\appdata\\local\\programs\\python\\python312\\lib\\site-packages (from geemap) (1.1.0)\n",
            "Requirement already satisfied: eerepr>=0.0.4 in c:\\users\\user\\appdata\\local\\programs\\python\\python312\\lib\\site-packages (from geemap) (0.0.4)\n",
            "Requirement already satisfied: folium>=0.13.0 in c:\\users\\user\\appdata\\local\\programs\\python\\python312\\lib\\site-packages (from geemap) (0.17.0)\n",
            "Requirement already satisfied: geocoder in c:\\users\\user\\appdata\\local\\programs\\python\\python312\\lib\\site-packages (from geemap) (1.38.1)\n",
            "Requirement already satisfied: ipyevents in c:\\users\\user\\appdata\\local\\programs\\python\\python312\\lib\\site-packages (from geemap) (2.0.2)\n",
            "Requirement already satisfied: ipyfilechooser>=0.6.0 in c:\\users\\user\\appdata\\local\\programs\\python\\python312\\lib\\site-packages (from geemap) (0.6.0)\n",
            "Requirement already satisfied: ipyleaflet>=0.17.0 in c:\\users\\user\\appdata\\local\\programs\\python\\python312\\lib\\site-packages (from geemap) (0.19.2)\n",
            "Requirement already satisfied: ipytree in c:\\users\\user\\appdata\\local\\programs\\python\\python312\\lib\\site-packages (from geemap) (0.2.2)\n",
            "Requirement already satisfied: matplotlib in c:\\users\\user\\appdata\\local\\programs\\python\\python312\\lib\\site-packages (from geemap) (3.9.1)\n",
            "Requirement already satisfied: numpy in c:\\users\\user\\appdata\\local\\programs\\python\\python312\\lib\\site-packages (from geemap) (2.0.1)\n",
            "Requirement already satisfied: pandas in c:\\users\\user\\appdata\\local\\programs\\python\\python312\\lib\\site-packages (from geemap) (2.2.2)\n",
            "Requirement already satisfied: plotly in c:\\users\\user\\appdata\\local\\programs\\python\\python312\\lib\\site-packages (from geemap) (5.24.1)\n",
            "Requirement already satisfied: pyperclip in c:\\users\\user\\appdata\\local\\programs\\python\\python312\\lib\\site-packages (from geemap) (1.9.0)\n",
            "Requirement already satisfied: pyshp>=2.1.3 in c:\\users\\user\\appdata\\local\\programs\\python\\python312\\lib\\site-packages (from geemap) (2.3.1)\n",
            "Requirement already satisfied: python-box in c:\\users\\user\\appdata\\local\\programs\\python\\python312\\lib\\site-packages (from geemap) (7.2.0)\n",
            "Requirement already satisfied: scooby in c:\\users\\user\\appdata\\local\\programs\\python\\python312\\lib\\site-packages (from geemap) (0.10.0)\n",
            "Requirement already satisfied: google-cloud-storage in c:\\users\\user\\appdata\\local\\programs\\python\\python312\\lib\\site-packages (from earthengine-api>=0.1.347->geemap) (2.18.2)\n",
            "Requirement already satisfied: google-api-python-client>=1.12.1 in c:\\users\\user\\appdata\\local\\programs\\python\\python312\\lib\\site-packages (from earthengine-api>=0.1.347->geemap) (2.146.0)\n",
            "Requirement already satisfied: google-auth>=1.4.1 in c:\\users\\user\\appdata\\local\\programs\\python\\python312\\lib\\site-packages (from earthengine-api>=0.1.347->geemap) (2.34.0)\n",
            "Requirement already satisfied: google-auth-httplib2>=0.0.3 in c:\\users\\user\\appdata\\local\\programs\\python\\python312\\lib\\site-packages (from earthengine-api>=0.1.347->geemap) (0.2.0)\n",
            "Requirement already satisfied: httplib2<1dev,>=0.9.2 in c:\\users\\user\\appdata\\local\\programs\\python\\python312\\lib\\site-packages (from earthengine-api>=0.1.347->geemap) (0.22.0)\n",
            "Requirement already satisfied: requests in c:\\users\\user\\appdata\\local\\programs\\python\\python312\\lib\\site-packages (from earthengine-api>=0.1.347->geemap) (2.32.3)\n",
            "Requirement already satisfied: branca>=0.6.0 in c:\\users\\user\\appdata\\local\\programs\\python\\python312\\lib\\site-packages (from folium>=0.13.0->geemap) (0.7.2)\n",
            "Requirement already satisfied: jinja2>=2.9 in c:\\users\\user\\appdata\\local\\programs\\python\\python312\\lib\\site-packages (from folium>=0.13.0->geemap) (3.1.4)\n",
            "Requirement already satisfied: xyzservices in c:\\users\\user\\appdata\\local\\programs\\python\\python312\\lib\\site-packages (from folium>=0.13.0->geemap) (2024.9.0)\n",
            "Requirement already satisfied: ipywidgets in c:\\users\\user\\appdata\\local\\programs\\python\\python312\\lib\\site-packages (from ipyfilechooser>=0.6.0->geemap) (8.1.5)\n",
            "Requirement already satisfied: jupyter-leaflet<0.20,>=0.19 in c:\\users\\user\\appdata\\local\\programs\\python\\python312\\lib\\site-packages (from ipyleaflet>=0.17.0->geemap) (0.19.2)\n",
            "Requirement already satisfied: traittypes<3,>=0.2.1 in c:\\users\\user\\appdata\\local\\programs\\python\\python312\\lib\\site-packages (from ipyleaflet>=0.17.0->geemap) (0.2.1)\n",
            "Requirement already satisfied: traitlets>=4.3.0 in c:\\users\\user\\appdata\\local\\programs\\python\\python312\\lib\\site-packages (from bqplot->geemap) (5.14.3)\n",
            "Requirement already satisfied: python-dateutil>=2.8.2 in c:\\users\\user\\appdata\\local\\programs\\python\\python312\\lib\\site-packages (from pandas->geemap) (2.9.0.post0)\n",
            "Requirement already satisfied: pytz>=2020.1 in c:\\users\\user\\appdata\\local\\programs\\python\\python312\\lib\\site-packages (from pandas->geemap) (2024.1)\n",
            "Requirement already satisfied: tzdata>=2022.7 in c:\\users\\user\\appdata\\local\\programs\\python\\python312\\lib\\site-packages (from pandas->geemap) (2024.1)\n",
            "Requirement already satisfied: click in c:\\users\\user\\appdata\\local\\programs\\python\\python312\\lib\\site-packages (from geocoder->geemap) (8.1.7)\n",
            "Requirement already satisfied: future in c:\\users\\user\\appdata\\local\\programs\\python\\python312\\lib\\site-packages (from geocoder->geemap) (1.0.0)\n",
            "Requirement already satisfied: ratelim in c:\\users\\user\\appdata\\local\\programs\\python\\python312\\lib\\site-packages (from geocoder->geemap) (0.1.6)\n",
            "Requirement already satisfied: six in c:\\users\\user\\appdata\\local\\programs\\python\\python312\\lib\\site-packages (from geocoder->geemap) (1.16.0)\n",
            "Requirement already satisfied: contourpy>=1.0.1 in c:\\users\\user\\appdata\\local\\programs\\python\\python312\\lib\\site-packages (from matplotlib->geemap) (1.2.1)\n",
            "Requirement already satisfied: cycler>=0.10 in c:\\users\\user\\appdata\\local\\programs\\python\\python312\\lib\\site-packages (from matplotlib->geemap) (0.12.1)\n",
            "Requirement already satisfied: fonttools>=4.22.0 in c:\\users\\user\\appdata\\local\\programs\\python\\python312\\lib\\site-packages (from matplotlib->geemap) (4.53.1)\n",
            "Requirement already satisfied: kiwisolver>=1.3.1 in c:\\users\\user\\appdata\\local\\programs\\python\\python312\\lib\\site-packages (from matplotlib->geemap) (1.4.5)\n",
            "Requirement already satisfied: packaging>=20.0 in c:\\users\\user\\appdata\\local\\programs\\python\\python312\\lib\\site-packages (from matplotlib->geemap) (24.1)\n",
            "Requirement already satisfied: pillow>=8 in c:\\users\\user\\appdata\\local\\programs\\python\\python312\\lib\\site-packages (from matplotlib->geemap) (10.4.0)\n",
            "Requirement already satisfied: pyparsing>=2.3.1 in c:\\users\\user\\appdata\\local\\programs\\python\\python312\\lib\\site-packages (from matplotlib->geemap) (3.1.2)\n",
            "Requirement already satisfied: tenacity>=6.2.0 in c:\\users\\user\\appdata\\local\\programs\\python\\python312\\lib\\site-packages (from plotly->geemap) (9.0.0)\n",
            "Requirement already satisfied: google-api-core!=2.0.*,!=2.1.*,!=2.2.*,!=2.3.0,<3.0.0.dev0,>=1.31.5 in c:\\users\\user\\appdata\\local\\programs\\python\\python312\\lib\\site-packages (from google-api-python-client>=1.12.1->earthengine-api>=0.1.347->geemap) (2.19.2)\n",
            "Requirement already satisfied: uritemplate<5,>=3.0.1 in c:\\users\\user\\appdata\\local\\programs\\python\\python312\\lib\\site-packages (from google-api-python-client>=1.12.1->earthengine-api>=0.1.347->geemap) (4.1.1)\n",
            "Requirement already satisfied: cachetools<6.0,>=2.0.0 in c:\\users\\user\\appdata\\local\\programs\\python\\python312\\lib\\site-packages (from google-auth>=1.4.1->earthengine-api>=0.1.347->geemap) (5.5.0)\n",
            "Requirement already satisfied: pyasn1-modules>=0.2.1 in c:\\users\\user\\appdata\\local\\programs\\python\\python312\\lib\\site-packages (from google-auth>=1.4.1->earthengine-api>=0.1.347->geemap) (0.4.1)\n",
            "Requirement already satisfied: rsa<5,>=3.1.4 in c:\\users\\user\\appdata\\local\\programs\\python\\python312\\lib\\site-packages (from google-auth>=1.4.1->earthengine-api>=0.1.347->geemap) (4.9)\n",
            "Requirement already satisfied: comm>=0.1.3 in c:\\users\\user\\appdata\\local\\programs\\python\\python312\\lib\\site-packages (from ipywidgets->ipyfilechooser>=0.6.0->geemap) (0.2.2)\n",
            "Requirement already satisfied: ipython>=6.1.0 in c:\\users\\user\\appdata\\local\\programs\\python\\python312\\lib\\site-packages (from ipywidgets->ipyfilechooser>=0.6.0->geemap) (8.25.0)\n",
            "Requirement already satisfied: widgetsnbextension~=4.0.12 in c:\\users\\user\\appdata\\local\\programs\\python\\python312\\lib\\site-packages (from ipywidgets->ipyfilechooser>=0.6.0->geemap) (4.0.13)\n",
            "Requirement already satisfied: jupyterlab-widgets~=3.0.12 in c:\\users\\user\\appdata\\local\\programs\\python\\python312\\lib\\site-packages (from ipywidgets->ipyfilechooser>=0.6.0->geemap) (3.0.13)\n",
            "Requirement already satisfied: MarkupSafe>=2.0 in c:\\users\\user\\appdata\\local\\programs\\python\\python312\\lib\\site-packages (from jinja2>=2.9->folium>=0.13.0->geemap) (2.1.5)\n",
            "Requirement already satisfied: colorama in c:\\users\\user\\appdata\\local\\programs\\python\\python312\\lib\\site-packages (from click->geocoder->geemap) (0.4.6)\n",
            "Requirement already satisfied: google-cloud-core<3.0dev,>=2.3.0 in c:\\users\\user\\appdata\\local\\programs\\python\\python312\\lib\\site-packages (from google-cloud-storage->earthengine-api>=0.1.347->geemap) (2.4.1)\n",
            "Requirement already satisfied: google-resumable-media>=2.7.2 in c:\\users\\user\\appdata\\local\\programs\\python\\python312\\lib\\site-packages (from google-cloud-storage->earthengine-api>=0.1.347->geemap) (2.7.2)\n",
            "Requirement already satisfied: google-crc32c<2.0dev,>=1.0 in c:\\users\\user\\appdata\\local\\programs\\python\\python312\\lib\\site-packages (from google-cloud-storage->earthengine-api>=0.1.347->geemap) (1.6.0)\n",
            "Requirement already satisfied: charset-normalizer<4,>=2 in c:\\users\\user\\appdata\\local\\programs\\python\\python312\\lib\\site-packages (from requests->earthengine-api>=0.1.347->geemap) (3.3.2)\n",
            "Requirement already satisfied: idna<4,>=2.5 in c:\\users\\user\\appdata\\local\\programs\\python\\python312\\lib\\site-packages (from requests->earthengine-api>=0.1.347->geemap) (3.7)\n",
            "Requirement already satisfied: urllib3<3,>=1.21.1 in c:\\users\\user\\appdata\\local\\programs\\python\\python312\\lib\\site-packages (from requests->earthengine-api>=0.1.347->geemap) (2.2.2)\n",
            "Requirement already satisfied: certifi>=2017.4.17 in c:\\users\\user\\appdata\\local\\programs\\python\\python312\\lib\\site-packages (from requests->earthengine-api>=0.1.347->geemap) (2024.6.2)\n",
            "Requirement already satisfied: decorator in c:\\users\\user\\appdata\\local\\programs\\python\\python312\\lib\\site-packages (from ratelim->geocoder->geemap) (5.1.1)\n",
            "Requirement already satisfied: googleapis-common-protos<2.0.dev0,>=1.56.2 in c:\\users\\user\\appdata\\local\\programs\\python\\python312\\lib\\site-packages (from google-api-core!=2.0.*,!=2.1.*,!=2.2.*,!=2.3.0,<3.0.0.dev0,>=1.31.5->google-api-python-client>=1.12.1->earthengine-api>=0.1.347->geemap) (1.65.0)\n",
            "Requirement already satisfied: protobuf!=3.20.0,!=3.20.1,!=4.21.0,!=4.21.1,!=4.21.2,!=4.21.3,!=4.21.4,!=4.21.5,<6.0.0.dev0,>=3.19.5 in c:\\users\\user\\appdata\\local\\programs\\python\\python312\\lib\\site-packages (from google-api-core!=2.0.*,!=2.1.*,!=2.2.*,!=2.3.0,<3.0.0.dev0,>=1.31.5->google-api-python-client>=1.12.1->earthengine-api>=0.1.347->geemap) (5.28.1)\n",
            "Requirement already satisfied: proto-plus<2.0.0dev,>=1.22.3 in c:\\users\\user\\appdata\\local\\programs\\python\\python312\\lib\\site-packages (from google-api-core!=2.0.*,!=2.1.*,!=2.2.*,!=2.3.0,<3.0.0.dev0,>=1.31.5->google-api-python-client>=1.12.1->earthengine-api>=0.1.347->geemap) (1.24.0)\n",
            "Requirement already satisfied: jedi>=0.16 in c:\\users\\user\\appdata\\local\\programs\\python\\python312\\lib\\site-packages (from ipython>=6.1.0->ipywidgets->ipyfilechooser>=0.6.0->geemap) (0.19.1)\n",
            "Requirement already satisfied: matplotlib-inline in c:\\users\\user\\appdata\\local\\programs\\python\\python312\\lib\\site-packages (from ipython>=6.1.0->ipywidgets->ipyfilechooser>=0.6.0->geemap) (0.1.7)\n",
            "Requirement already satisfied: prompt-toolkit<3.1.0,>=3.0.41 in c:\\users\\user\\appdata\\local\\programs\\python\\python312\\lib\\site-packages (from ipython>=6.1.0->ipywidgets->ipyfilechooser>=0.6.0->geemap) (3.0.47)\n",
            "Requirement already satisfied: pygments>=2.4.0 in c:\\users\\user\\appdata\\local\\programs\\python\\python312\\lib\\site-packages (from ipython>=6.1.0->ipywidgets->ipyfilechooser>=0.6.0->geemap) (2.18.0)\n",
            "Requirement already satisfied: stack-data in c:\\users\\user\\appdata\\local\\programs\\python\\python312\\lib\\site-packages (from ipython>=6.1.0->ipywidgets->ipyfilechooser>=0.6.0->geemap) (0.6.3)\n",
            "Requirement already satisfied: pyasn1<0.7.0,>=0.4.6 in c:\\users\\user\\appdata\\local\\programs\\python\\python312\\lib\\site-packages (from pyasn1-modules>=0.2.1->google-auth>=1.4.1->earthengine-api>=0.1.347->geemap) (0.6.1)\n",
            "Requirement already satisfied: parso<0.9.0,>=0.8.3 in c:\\users\\user\\appdata\\local\\programs\\python\\python312\\lib\\site-packages (from jedi>=0.16->ipython>=6.1.0->ipywidgets->ipyfilechooser>=0.6.0->geemap) (0.8.4)\n",
            "Requirement already satisfied: wcwidth in c:\\users\\user\\appdata\\local\\programs\\python\\python312\\lib\\site-packages (from prompt-toolkit<3.1.0,>=3.0.41->ipython>=6.1.0->ipywidgets->ipyfilechooser>=0.6.0->geemap) (0.2.13)\n",
            "Requirement already satisfied: executing>=1.2.0 in c:\\users\\user\\appdata\\local\\programs\\python\\python312\\lib\\site-packages (from stack-data->ipython>=6.1.0->ipywidgets->ipyfilechooser>=0.6.0->geemap) (2.0.1)\n",
            "Requirement already satisfied: asttokens>=2.1.0 in c:\\users\\user\\appdata\\local\\programs\\python\\python312\\lib\\site-packages (from stack-data->ipython>=6.1.0->ipywidgets->ipyfilechooser>=0.6.0->geemap) (2.4.1)\n",
            "Requirement already satisfied: pure-eval in c:\\users\\user\\appdata\\local\\programs\\python\\python312\\lib\\site-packages (from stack-data->ipython>=6.1.0->ipywidgets->ipyfilechooser>=0.6.0->geemap) (0.2.2)\n"
          ]
        },
        {
          "output_type": "stream",
          "name": "stderr",
          "text": [
            "\n",
            "[notice] A new release of pip is available: 24.0 -> 24.2\n",
            "[notice] To update, run: python.exe -m pip install --upgrade pip\n"
          ]
        },
        {
          "output_type": "stream",
          "name": "stdout",
          "text": [
            "Requirement already satisfied: cartopy in c:\\users\\user\\appdata\\local\\programs\\python\\python312\\lib\\site-packages (0.23.0)\n",
            "Requirement already satisfied: numpy>=1.21 in c:\\users\\user\\appdata\\local\\programs\\python\\python312\\lib\\site-packages (from cartopy) (2.0.1)\n",
            "Requirement already satisfied: matplotlib>=3.5 in c:\\users\\user\\appdata\\local\\programs\\python\\python312\\lib\\site-packages (from cartopy) (3.9.1)\n",
            "Requirement already satisfied: shapely>=1.7 in c:\\users\\user\\appdata\\local\\programs\\python\\python312\\lib\\site-packages (from cartopy) (2.0.6)\n",
            "Requirement already satisfied: packaging>=20 in c:\\users\\user\\appdata\\local\\programs\\python\\python312\\lib\\site-packages (from cartopy) (24.1)\n",
            "Requirement already satisfied: pyshp>=2.3 in c:\\users\\user\\appdata\\local\\programs\\python\\python312\\lib\\site-packages (from cartopy) (2.3.1)\n",
            "Requirement already satisfied: pyproj>=3.3.1 in c:\\users\\user\\appdata\\local\\programs\\python\\python312\\lib\\site-packages (from cartopy) (3.6.1)\n",
            "Requirement already satisfied: contourpy>=1.0.1 in c:\\users\\user\\appdata\\local\\programs\\python\\python312\\lib\\site-packages (from matplotlib>=3.5->cartopy) (1.2.1)\n",
            "Requirement already satisfied: cycler>=0.10 in c:\\users\\user\\appdata\\local\\programs\\python\\python312\\lib\\site-packages (from matplotlib>=3.5->cartopy) (0.12.1)\n",
            "Requirement already satisfied: fonttools>=4.22.0 in c:\\users\\user\\appdata\\local\\programs\\python\\python312\\lib\\site-packages (from matplotlib>=3.5->cartopy) (4.53.1)\n",
            "Requirement already satisfied: kiwisolver>=1.3.1 in c:\\users\\user\\appdata\\local\\programs\\python\\python312\\lib\\site-packages (from matplotlib>=3.5->cartopy) (1.4.5)\n",
            "Requirement already satisfied: pillow>=8 in c:\\users\\user\\appdata\\local\\programs\\python\\python312\\lib\\site-packages (from matplotlib>=3.5->cartopy) (10.4.0)\n",
            "Requirement already satisfied: pyparsing>=2.3.1 in c:\\users\\user\\appdata\\local\\programs\\python\\python312\\lib\\site-packages (from matplotlib>=3.5->cartopy) (3.1.2)\n",
            "Requirement already satisfied: python-dateutil>=2.7 in c:\\users\\user\\appdata\\local\\programs\\python\\python312\\lib\\site-packages (from matplotlib>=3.5->cartopy) (2.9.0.post0)\n",
            "Requirement already satisfied: certifi in c:\\users\\user\\appdata\\local\\programs\\python\\python312\\lib\\site-packages (from pyproj>=3.3.1->cartopy) (2024.6.2)\n",
            "Requirement already satisfied: six>=1.5 in c:\\users\\user\\appdata\\local\\programs\\python\\python312\\lib\\site-packages (from python-dateutil>=2.7->matplotlib>=3.5->cartopy) (1.16.0)\n"
          ]
        },
        {
          "output_type": "stream",
          "name": "stderr",
          "text": [
            "\n",
            "[notice] A new release of pip is available: 24.0 -> 24.2\n",
            "[notice] To update, run: python.exe -m pip install --upgrade pip\n"
          ]
        },
        {
          "output_type": "stream",
          "name": "stdout",
          "text": [
            "Requirement already satisfied: mapclassify in c:\\users\\user\\appdata\\local\\programs\\python\\python312\\lib\\site-packages (2.8.1)\n",
            "Requirement already satisfied: networkx>=2.7 in c:\\users\\user\\appdata\\local\\programs\\python\\python312\\lib\\site-packages (from mapclassify) (3.3)\n",
            "Requirement already satisfied: numpy>=1.23 in c:\\users\\user\\appdata\\local\\programs\\python\\python312\\lib\\site-packages (from mapclassify) (2.0.1)\n",
            "Requirement already satisfied: pandas!=1.5.0,>=1.4 in c:\\users\\user\\appdata\\local\\programs\\python\\python312\\lib\\site-packages (from mapclassify) (2.2.2)\n",
            "Requirement already satisfied: scikit-learn>=1.0 in c:\\users\\user\\appdata\\local\\programs\\python\\python312\\lib\\site-packages (from mapclassify) (1.5.2)\n",
            "Requirement already satisfied: scipy>=1.8 in c:\\users\\user\\appdata\\local\\programs\\python\\python312\\lib\\site-packages (from mapclassify) (1.14.0)\n",
            "Requirement already satisfied: python-dateutil>=2.8.2 in c:\\users\\user\\appdata\\local\\programs\\python\\python312\\lib\\site-packages (from pandas!=1.5.0,>=1.4->mapclassify) (2.9.0.post0)\n",
            "Requirement already satisfied: pytz>=2020.1 in c:\\users\\user\\appdata\\local\\programs\\python\\python312\\lib\\site-packages (from pandas!=1.5.0,>=1.4->mapclassify) (2024.1)\n",
            "Requirement already satisfied: tzdata>=2022.7 in c:\\users\\user\\appdata\\local\\programs\\python\\python312\\lib\\site-packages (from pandas!=1.5.0,>=1.4->mapclassify) (2024.1)\n",
            "Requirement already satisfied: joblib>=1.2.0 in c:\\users\\user\\appdata\\local\\programs\\python\\python312\\lib\\site-packages (from scikit-learn>=1.0->mapclassify) (1.4.2)\n",
            "Requirement already satisfied: threadpoolctl>=3.1.0 in c:\\users\\user\\appdata\\local\\programs\\python\\python312\\lib\\site-packages (from scikit-learn>=1.0->mapclassify) (3.5.0)\n",
            "Requirement already satisfied: six>=1.5 in c:\\users\\user\\appdata\\local\\programs\\python\\python312\\lib\\site-packages (from python-dateutil>=2.8.2->pandas!=1.5.0,>=1.4->mapclassify) (1.16.0)\n"
          ]
        },
        {
          "output_type": "stream",
          "name": "stderr",
          "text": [
            "\n",
            "[notice] A new release of pip is available: 24.0 -> 24.2\n",
            "[notice] To update, run: python.exe -m pip install --upgrade pip\n"
          ]
        },
        {
          "output_type": "stream",
          "name": "stdout",
          "text": [
            "Requirement already satisfied: geoplot in c:\\users\\user\\appdata\\local\\programs\\python\\python312\\lib\\site-packages (0.5.1)\n",
            "Requirement already satisfied: matplotlib>=3.1.2 in c:\\users\\user\\appdata\\local\\programs\\python\\python312\\lib\\site-packages (from geoplot) (3.9.1)\n",
            "Requirement already satisfied: seaborn in c:\\users\\user\\appdata\\local\\programs\\python\\python312\\lib\\site-packages (from geoplot) (0.13.2)\n",
            "Requirement already satisfied: pandas in c:\\users\\user\\appdata\\local\\programs\\python\\python312\\lib\\site-packages (from geoplot) (2.2.2)\n",
            "Requirement already satisfied: geopandas>=0.9.0 in c:\\users\\user\\appdata\\local\\programs\\python\\python312\\lib\\site-packages (from geoplot) (1.0.1)\n",
            "Requirement already satisfied: cartopy in c:\\users\\user\\appdata\\local\\programs\\python\\python312\\lib\\site-packages (from geoplot) (0.23.0)\n",
            "Requirement already satisfied: mapclassify>=2.1 in c:\\users\\user\\appdata\\local\\programs\\python\\python312\\lib\\site-packages (from geoplot) (2.8.1)\n",
            "Requirement already satisfied: contextily>=1.0.0 in c:\\users\\user\\appdata\\local\\programs\\python\\python312\\lib\\site-packages (from geoplot) (1.6.2)\n",
            "Requirement already satisfied: geopy in c:\\users\\user\\appdata\\local\\programs\\python\\python312\\lib\\site-packages (from contextily>=1.0.0->geoplot) (2.4.1)\n",
            "Requirement already satisfied: mercantile in c:\\users\\user\\appdata\\local\\programs\\python\\python312\\lib\\site-packages (from contextily>=1.0.0->geoplot) (1.2.1)\n",
            "Requirement already satisfied: pillow in c:\\users\\user\\appdata\\local\\programs\\python\\python312\\lib\\site-packages (from contextily>=1.0.0->geoplot) (10.4.0)\n",
            "Requirement already satisfied: rasterio in c:\\users\\user\\appdata\\local\\programs\\python\\python312\\lib\\site-packages (from contextily>=1.0.0->geoplot) (1.3.11)\n",
            "Requirement already satisfied: requests in c:\\users\\user\\appdata\\local\\programs\\python\\python312\\lib\\site-packages (from contextily>=1.0.0->geoplot) (2.32.3)\n",
            "Requirement already satisfied: joblib in c:\\users\\user\\appdata\\local\\programs\\python\\python312\\lib\\site-packages (from contextily>=1.0.0->geoplot) (1.4.2)\n",
            "Requirement already satisfied: xyzservices in c:\\users\\user\\appdata\\local\\programs\\python\\python312\\lib\\site-packages (from contextily>=1.0.0->geoplot) (2024.9.0)\n",
            "Requirement already satisfied: numpy>=1.22 in c:\\users\\user\\appdata\\local\\programs\\python\\python312\\lib\\site-packages (from geopandas>=0.9.0->geoplot) (2.0.1)\n",
            "Requirement already satisfied: pyogrio>=0.7.2 in c:\\users\\user\\appdata\\local\\programs\\python\\python312\\lib\\site-packages (from geopandas>=0.9.0->geoplot) (0.9.0)\n",
            "Requirement already satisfied: packaging in c:\\users\\user\\appdata\\local\\programs\\python\\python312\\lib\\site-packages (from geopandas>=0.9.0->geoplot) (24.1)\n",
            "Requirement already satisfied: pyproj>=3.3.0 in c:\\users\\user\\appdata\\local\\programs\\python\\python312\\lib\\site-packages (from geopandas>=0.9.0->geoplot) (3.6.1)\n",
            "Requirement already satisfied: shapely>=2.0.0 in c:\\users\\user\\appdata\\local\\programs\\python\\python312\\lib\\site-packages (from geopandas>=0.9.0->geoplot) (2.0.6)\n",
            "Requirement already satisfied: networkx>=2.7 in c:\\users\\user\\appdata\\local\\programs\\python\\python312\\lib\\site-packages (from mapclassify>=2.1->geoplot) (3.3)\n",
            "Requirement already satisfied: scikit-learn>=1.0 in c:\\users\\user\\appdata\\local\\programs\\python\\python312\\lib\\site-packages (from mapclassify>=2.1->geoplot) (1.5.2)\n",
            "Requirement already satisfied: scipy>=1.8 in c:\\users\\user\\appdata\\local\\programs\\python\\python312\\lib\\site-packages (from mapclassify>=2.1->geoplot) (1.14.0)\n",
            "Requirement already satisfied: contourpy>=1.0.1 in c:\\users\\user\\appdata\\local\\programs\\python\\python312\\lib\\site-packages (from matplotlib>=3.1.2->geoplot) (1.2.1)\n",
            "Requirement already satisfied: cycler>=0.10 in c:\\users\\user\\appdata\\local\\programs\\python\\python312\\lib\\site-packages (from matplotlib>=3.1.2->geoplot) (0.12.1)\n",
            "Requirement already satisfied: fonttools>=4.22.0 in c:\\users\\user\\appdata\\local\\programs\\python\\python312\\lib\\site-packages (from matplotlib>=3.1.2->geoplot) (4.53.1)\n",
            "Requirement already satisfied: kiwisolver>=1.3.1 in c:\\users\\user\\appdata\\local\\programs\\python\\python312\\lib\\site-packages (from matplotlib>=3.1.2->geoplot) (1.4.5)\n",
            "Requirement already satisfied: pyparsing>=2.3.1 in c:\\users\\user\\appdata\\local\\programs\\python\\python312\\lib\\site-packages (from matplotlib>=3.1.2->geoplot) (3.1.2)\n",
            "Requirement already satisfied: python-dateutil>=2.7 in c:\\users\\user\\appdata\\local\\programs\\python\\python312\\lib\\site-packages (from matplotlib>=3.1.2->geoplot) (2.9.0.post0)\n",
            "Requirement already satisfied: pytz>=2020.1 in c:\\users\\user\\appdata\\local\\programs\\python\\python312\\lib\\site-packages (from pandas->geoplot) (2024.1)\n",
            "Requirement already satisfied: tzdata>=2022.7 in c:\\users\\user\\appdata\\local\\programs\\python\\python312\\lib\\site-packages (from pandas->geoplot) (2024.1)\n",
            "Requirement already satisfied: pyshp>=2.3 in c:\\users\\user\\appdata\\local\\programs\\python\\python312\\lib\\site-packages (from cartopy->geoplot) (2.3.1)\n",
            "Requirement already satisfied: certifi in c:\\users\\user\\appdata\\local\\programs\\python\\python312\\lib\\site-packages (from pyogrio>=0.7.2->geopandas>=0.9.0->geoplot) (2024.6.2)\n",
            "Requirement already satisfied: six>=1.5 in c:\\users\\user\\appdata\\local\\programs\\python\\python312\\lib\\site-packages (from python-dateutil>=2.7->matplotlib>=3.1.2->geoplot) (1.16.0)\n",
            "Requirement already satisfied: threadpoolctl>=3.1.0 in c:\\users\\user\\appdata\\local\\programs\\python\\python312\\lib\\site-packages (from scikit-learn>=1.0->mapclassify>=2.1->geoplot) (3.5.0)\n",
            "Requirement already satisfied: geographiclib<3,>=1.52 in c:\\users\\user\\appdata\\local\\programs\\python\\python312\\lib\\site-packages (from geopy->contextily>=1.0.0->geoplot) (2.0)\n",
            "Requirement already satisfied: click>=3.0 in c:\\users\\user\\appdata\\local\\programs\\python\\python312\\lib\\site-packages (from mercantile->contextily>=1.0.0->geoplot) (8.1.7)\n",
            "Requirement already satisfied: affine in c:\\users\\user\\appdata\\local\\programs\\python\\python312\\lib\\site-packages (from rasterio->contextily>=1.0.0->geoplot) (2.4.0)\n",
            "Requirement already satisfied: attrs in c:\\users\\user\\appdata\\local\\programs\\python\\python312\\lib\\site-packages (from rasterio->contextily>=1.0.0->geoplot) (23.2.0)\n",
            "Requirement already satisfied: cligj>=0.5 in c:\\users\\user\\appdata\\local\\programs\\python\\python312\\lib\\site-packages (from rasterio->contextily>=1.0.0->geoplot) (0.7.2)\n",
            "Requirement already satisfied: snuggs>=1.4.1 in c:\\users\\user\\appdata\\local\\programs\\python\\python312\\lib\\site-packages (from rasterio->contextily>=1.0.0->geoplot) (1.4.7)\n",
            "Requirement already satisfied: click-plugins in c:\\users\\user\\appdata\\local\\programs\\python\\python312\\lib\\site-packages (from rasterio->contextily>=1.0.0->geoplot) (1.1.1)\n",
            "Requirement already satisfied: setuptools in c:\\users\\user\\appdata\\local\\programs\\python\\python312\\lib\\site-packages (from rasterio->contextily>=1.0.0->geoplot) (70.0.0)\n",
            "Requirement already satisfied: charset-normalizer<4,>=2 in c:\\users\\user\\appdata\\local\\programs\\python\\python312\\lib\\site-packages (from requests->contextily>=1.0.0->geoplot) (3.3.2)\n",
            "Requirement already satisfied: idna<4,>=2.5 in c:\\users\\user\\appdata\\local\\programs\\python\\python312\\lib\\site-packages (from requests->contextily>=1.0.0->geoplot) (3.7)\n",
            "Requirement already satisfied: urllib3<3,>=1.21.1 in c:\\users\\user\\appdata\\local\\programs\\python\\python312\\lib\\site-packages (from requests->contextily>=1.0.0->geoplot) (2.2.2)\n",
            "Requirement already satisfied: colorama in c:\\users\\user\\appdata\\local\\programs\\python\\python312\\lib\\site-packages (from click>=3.0->mercantile->contextily>=1.0.0->geoplot) (0.4.6)\n"
          ]
        },
        {
          "output_type": "stream",
          "name": "stderr",
          "text": [
            "\n",
            "[notice] A new release of pip is available: 24.0 -> 24.2\n",
            "[notice] To update, run: python.exe -m pip install --upgrade pip\n"
          ]
        },
        {
          "output_type": "stream",
          "name": "stdout",
          "text": [
            "Requirement already satisfied: pyreadr in c:\\users\\user\\appdata\\local\\programs\\python\\python312\\lib\\site-packages (0.5.2)\n",
            "Requirement already satisfied: pandas>=1.2.0 in c:\\users\\user\\appdata\\local\\programs\\python\\python312\\lib\\site-packages (from pyreadr) (2.2.2)\n",
            "Requirement already satisfied: numpy>=1.26.0 in c:\\users\\user\\appdata\\local\\programs\\python\\python312\\lib\\site-packages (from pandas>=1.2.0->pyreadr) (2.0.1)\n",
            "Requirement already satisfied: python-dateutil>=2.8.2 in c:\\users\\user\\appdata\\local\\programs\\python\\python312\\lib\\site-packages (from pandas>=1.2.0->pyreadr) (2.9.0.post0)\n",
            "Requirement already satisfied: pytz>=2020.1 in c:\\users\\user\\appdata\\local\\programs\\python\\python312\\lib\\site-packages (from pandas>=1.2.0->pyreadr) (2024.1)\n",
            "Requirement already satisfied: tzdata>=2022.7 in c:\\users\\user\\appdata\\local\\programs\\python\\python312\\lib\\site-packages (from pandas>=1.2.0->pyreadr) (2024.1)\n",
            "Requirement already satisfied: six>=1.5 in c:\\users\\user\\appdata\\local\\programs\\python\\python312\\lib\\site-packages (from python-dateutil>=2.8.2->pandas>=1.2.0->pyreadr) (1.16.0)\n"
          ]
        },
        {
          "output_type": "stream",
          "name": "stderr",
          "text": [
            "\n",
            "[notice] A new release of pip is available: 24.0 -> 24.2\n",
            "[notice] To update, run: python.exe -m pip install --upgrade pip\n"
          ]
        },
        {
          "output_type": "stream",
          "name": "stdout",
          "text": [
            "Requirement already satisfied: pysal in c:\\users\\user\\appdata\\local\\programs\\python\\python312\\lib\\site-packages (24.7)\n",
            "Requirement already satisfied: beautifulsoup4>=4.10 in c:\\users\\user\\appdata\\local\\programs\\python\\python312\\lib\\site-packages (from pysal) (4.12.3)\n",
            "Requirement already satisfied: geopandas>=0.10.0 in c:\\users\\user\\appdata\\local\\programs\\python\\python312\\lib\\site-packages (from pysal) (1.0.1)\n",
            "Requirement already satisfied: numpy>=1.22 in c:\\users\\user\\appdata\\local\\programs\\python\\python312\\lib\\site-packages (from pysal) (2.0.1)\n",
            "Requirement already satisfied: packaging>=22 in c:\\users\\user\\appdata\\local\\programs\\python\\python312\\lib\\site-packages (from pysal) (24.1)\n",
            "Requirement already satisfied: pandas>=1.4 in c:\\users\\user\\appdata\\local\\programs\\python\\python312\\lib\\site-packages (from pysal) (2.2.2)\n",
            "Requirement already satisfied: platformdirs>=2.0.2 in c:\\users\\user\\appdata\\local\\programs\\python\\python312\\lib\\site-packages (from pysal) (4.2.2)\n",
            "Requirement already satisfied: requests>=2.27 in c:\\users\\user\\appdata\\local\\programs\\python\\python312\\lib\\site-packages (from pysal) (2.32.3)\n",
            "Requirement already satisfied: scipy>=1.8 in c:\\users\\user\\appdata\\local\\programs\\python\\python312\\lib\\site-packages (from pysal) (1.14.0)\n",
            "Requirement already satisfied: shapely>=2.0.1 in c:\\users\\user\\appdata\\local\\programs\\python\\python312\\lib\\site-packages (from pysal) (2.0.6)\n",
            "Requirement already satisfied: scikit-learn>=1.1 in c:\\users\\user\\appdata\\local\\programs\\python\\python312\\lib\\site-packages (from pysal) (1.5.2)\n",
            "Requirement already satisfied: libpysal>=4.12.0 in c:\\users\\user\\appdata\\local\\programs\\python\\python312\\lib\\site-packages (from pysal) (4.12.1)\n",
            "Requirement already satisfied: access>=1.1.9 in c:\\users\\user\\appdata\\local\\programs\\python\\python312\\lib\\site-packages (from pysal) (1.1.9)\n",
            "Requirement already satisfied: esda>=2.6.0 in c:\\users\\user\\appdata\\local\\programs\\python\\python312\\lib\\site-packages (from pysal) (2.6.0)\n",
            "Requirement already satisfied: giddy>=2.3.5 in c:\\users\\user\\appdata\\local\\programs\\python\\python312\\lib\\site-packages (from pysal) (2.3.5)\n",
            "Requirement already satisfied: inequality>=1.0.1 in c:\\users\\user\\appdata\\local\\programs\\python\\python312\\lib\\site-packages (from pysal) (1.0.1)\n",
            "Requirement already satisfied: pointpats>=2.5.0 in c:\\users\\user\\appdata\\local\\programs\\python\\python312\\lib\\site-packages (from pysal) (2.5.0)\n",
            "Requirement already satisfied: segregation>=2.5 in c:\\users\\user\\appdata\\local\\programs\\python\\python312\\lib\\site-packages (from pysal) (2.5)\n",
            "Requirement already satisfied: spaghetti>=1.7.6 in c:\\users\\user\\appdata\\local\\programs\\python\\python312\\lib\\site-packages (from pysal) (1.7.6)\n",
            "Requirement already satisfied: mgwr>=2.2.1 in c:\\users\\user\\appdata\\local\\programs\\python\\python312\\lib\\site-packages (from pysal) (2.2.1)\n",
            "Requirement already satisfied: momepy>=0.7.2 in c:\\users\\user\\appdata\\local\\programs\\python\\python312\\lib\\site-packages (from pysal) (0.8.0)\n",
            "Requirement already satisfied: spglm>=1.1.0 in c:\\users\\user\\appdata\\local\\programs\\python\\python312\\lib\\site-packages (from pysal) (1.1.0)\n",
            "Requirement already satisfied: spint>=1.0.7 in c:\\users\\user\\appdata\\local\\programs\\python\\python312\\lib\\site-packages (from pysal) (1.0.7)\n",
            "Requirement already satisfied: spreg>=1.5.0 in c:\\users\\user\\appdata\\local\\programs\\python\\python312\\lib\\site-packages (from pysal) (1.6.1)\n",
            "Requirement already satisfied: spvcm>=0.3.0 in c:\\users\\user\\appdata\\local\\programs\\python\\python312\\lib\\site-packages (from pysal) (0.3.0)\n",
            "Requirement already satisfied: tobler>=0.11.2 in c:\\users\\user\\appdata\\local\\programs\\python\\python312\\lib\\site-packages (from pysal) (0.11.3)\n",
            "Requirement already satisfied: mapclassify>=2.7.0 in c:\\users\\user\\appdata\\local\\programs\\python\\python312\\lib\\site-packages (from pysal) (2.8.1)\n",
            "Requirement already satisfied: splot>=1.1.5.post1 in c:\\users\\user\\appdata\\local\\programs\\python\\python312\\lib\\site-packages (from pysal) (1.1.7)\n",
            "Requirement already satisfied: spopt>=0.6.1 in c:\\users\\user\\appdata\\local\\programs\\python\\python312\\lib\\site-packages (from pysal) (0.6.1)\n",
            "Requirement already satisfied: soupsieve>1.2 in c:\\users\\user\\appdata\\local\\programs\\python\\python312\\lib\\site-packages (from beautifulsoup4>=4.10->pysal) (2.5)\n",
            "Requirement already satisfied: pyogrio>=0.7.2 in c:\\users\\user\\appdata\\local\\programs\\python\\python312\\lib\\site-packages (from geopandas>=0.10.0->pysal) (0.9.0)\n",
            "Requirement already satisfied: pyproj>=3.3.0 in c:\\users\\user\\appdata\\local\\programs\\python\\python312\\lib\\site-packages (from geopandas>=0.10.0->pysal) (3.6.1)\n",
            "Requirement already satisfied: quantecon>=0.4.7 in c:\\users\\user\\appdata\\local\\programs\\python\\python312\\lib\\site-packages (from giddy>=2.3.5->pysal) (0.7.2)\n",
            "Requirement already satisfied: networkx>=2.7 in c:\\users\\user\\appdata\\local\\programs\\python\\python312\\lib\\site-packages (from mapclassify>=2.7.0->pysal) (3.3)\n",
            "Requirement already satisfied: tqdm>=4.63.0 in c:\\users\\user\\appdata\\local\\programs\\python\\python312\\lib\\site-packages (from momepy>=0.7.2->pysal) (4.66.5)\n",
            "Requirement already satisfied: python-dateutil>=2.8.2 in c:\\users\\user\\appdata\\local\\programs\\python\\python312\\lib\\site-packages (from pandas>=1.4->pysal) (2.9.0.post0)\n",
            "Requirement already satisfied: pytz>=2020.1 in c:\\users\\user\\appdata\\local\\programs\\python\\python312\\lib\\site-packages (from pandas>=1.4->pysal) (2024.1)\n",
            "Requirement already satisfied: tzdata>=2022.7 in c:\\users\\user\\appdata\\local\\programs\\python\\python312\\lib\\site-packages (from pandas>=1.4->pysal) (2024.1)\n",
            "Requirement already satisfied: matplotlib>=3.6 in c:\\users\\user\\appdata\\local\\programs\\python\\python312\\lib\\site-packages (from pointpats>=2.5.0->pysal) (3.9.1)\n",
            "Requirement already satisfied: charset-normalizer<4,>=2 in c:\\users\\user\\appdata\\local\\programs\\python\\python312\\lib\\site-packages (from requests>=2.27->pysal) (3.3.2)\n",
            "Requirement already satisfied: idna<4,>=2.5 in c:\\users\\user\\appdata\\local\\programs\\python\\python312\\lib\\site-packages (from requests>=2.27->pysal) (3.7)\n",
            "Requirement already satisfied: urllib3<3,>=1.21.1 in c:\\users\\user\\appdata\\local\\programs\\python\\python312\\lib\\site-packages (from requests>=2.27->pysal) (2.2.2)\n",
            "Requirement already satisfied: certifi>=2017.4.17 in c:\\users\\user\\appdata\\local\\programs\\python\\python312\\lib\\site-packages (from requests>=2.27->pysal) (2024.6.2)\n",
            "Requirement already satisfied: joblib>=1.2.0 in c:\\users\\user\\appdata\\local\\programs\\python\\python312\\lib\\site-packages (from scikit-learn>=1.1->pysal) (1.4.2)\n",
            "Requirement already satisfied: threadpoolctl>=3.1.0 in c:\\users\\user\\appdata\\local\\programs\\python\\python312\\lib\\site-packages (from scikit-learn>=1.1->pysal) (3.5.0)\n",
            "Requirement already satisfied: deprecation in c:\\users\\user\\appdata\\local\\programs\\python\\python312\\lib\\site-packages (from segregation>=2.5->pysal) (2.1.0)\n",
            "Requirement already satisfied: seaborn in c:\\users\\user\\appdata\\local\\programs\\python\\python312\\lib\\site-packages (from segregation>=2.5->pysal) (0.13.2)\n",
            "Requirement already satisfied: numba in c:\\users\\user\\appdata\\local\\programs\\python\\python312\\lib\\site-packages (from segregation>=2.5->pysal) (0.60.0)\n",
            "Requirement already satisfied: rtree>=1.0 in c:\\users\\user\\appdata\\local\\programs\\python\\python312\\lib\\site-packages (from spaghetti>=1.7.6->pysal) (1.3.0)\n",
            "Requirement already satisfied: pulp>=2.7 in c:\\users\\user\\appdata\\local\\programs\\python\\python312\\lib\\site-packages (from spopt>=0.6.1->pysal) (2.9.0)\n",
            "Requirement already satisfied: rasterio in c:\\users\\user\\appdata\\local\\programs\\python\\python312\\lib\\site-packages (from tobler>=0.11.2->pysal) (1.3.11)\n",
            "Requirement already satisfied: statsmodels in c:\\users\\user\\appdata\\local\\programs\\python\\python312\\lib\\site-packages (from tobler>=0.11.2->pysal) (0.14.2)\n",
            "Requirement already satisfied: rasterstats in c:\\users\\user\\appdata\\local\\programs\\python\\python312\\lib\\site-packages (from tobler>=0.11.2->pysal) (0.19.0)\n",
            "Requirement already satisfied: contourpy>=1.0.1 in c:\\users\\user\\appdata\\local\\programs\\python\\python312\\lib\\site-packages (from matplotlib>=3.6->pointpats>=2.5.0->pysal) (1.2.1)\n",
            "Requirement already satisfied: cycler>=0.10 in c:\\users\\user\\appdata\\local\\programs\\python\\python312\\lib\\site-packages (from matplotlib>=3.6->pointpats>=2.5.0->pysal) (0.12.1)\n",
            "Requirement already satisfied: fonttools>=4.22.0 in c:\\users\\user\\appdata\\local\\programs\\python\\python312\\lib\\site-packages (from matplotlib>=3.6->pointpats>=2.5.0->pysal) (4.53.1)\n",
            "Requirement already satisfied: kiwisolver>=1.3.1 in c:\\users\\user\\appdata\\local\\programs\\python\\python312\\lib\\site-packages (from matplotlib>=3.6->pointpats>=2.5.0->pysal) (1.4.5)\n",
            "Requirement already satisfied: pillow>=8 in c:\\users\\user\\appdata\\local\\programs\\python\\python312\\lib\\site-packages (from matplotlib>=3.6->pointpats>=2.5.0->pysal) (10.4.0)\n",
            "Requirement already satisfied: pyparsing>=2.3.1 in c:\\users\\user\\appdata\\local\\programs\\python\\python312\\lib\\site-packages (from matplotlib>=3.6->pointpats>=2.5.0->pysal) (3.1.2)\n",
            "Requirement already satisfied: six>=1.5 in c:\\users\\user\\appdata\\local\\programs\\python\\python312\\lib\\site-packages (from python-dateutil>=2.8.2->pandas>=1.4->pysal) (1.16.0)\n",
            "Requirement already satisfied: sympy in c:\\users\\user\\appdata\\local\\programs\\python\\python312\\lib\\site-packages (from quantecon>=0.4.7->giddy>=2.3.5->pysal) (1.13.3)\n",
            "Requirement already satisfied: llvmlite<0.44,>=0.43.0dev0 in c:\\users\\user\\appdata\\local\\programs\\python\\python312\\lib\\site-packages (from numba->segregation>=2.5->pysal) (0.43.0)\n",
            "Requirement already satisfied: colorama in c:\\users\\user\\appdata\\local\\programs\\python\\python312\\lib\\site-packages (from tqdm>=4.63.0->momepy>=0.7.2->pysal) (0.4.6)\n",
            "Requirement already satisfied: affine in c:\\users\\user\\appdata\\local\\programs\\python\\python312\\lib\\site-packages (from rasterio->tobler>=0.11.2->pysal) (2.4.0)\n",
            "Requirement already satisfied: attrs in c:\\users\\user\\appdata\\local\\programs\\python\\python312\\lib\\site-packages (from rasterio->tobler>=0.11.2->pysal) (23.2.0)\n",
            "Requirement already satisfied: click>=4.0 in c:\\users\\user\\appdata\\local\\programs\\python\\python312\\lib\\site-packages (from rasterio->tobler>=0.11.2->pysal) (8.1.7)\n",
            "Requirement already satisfied: cligj>=0.5 in c:\\users\\user\\appdata\\local\\programs\\python\\python312\\lib\\site-packages (from rasterio->tobler>=0.11.2->pysal) (0.7.2)\n",
            "Requirement already satisfied: snuggs>=1.4.1 in c:\\users\\user\\appdata\\local\\programs\\python\\python312\\lib\\site-packages (from rasterio->tobler>=0.11.2->pysal) (1.4.7)\n",
            "Requirement already satisfied: click-plugins in c:\\users\\user\\appdata\\local\\programs\\python\\python312\\lib\\site-packages (from rasterio->tobler>=0.11.2->pysal) (1.1.1)\n",
            "Requirement already satisfied: setuptools in c:\\users\\user\\appdata\\local\\programs\\python\\python312\\lib\\site-packages (from rasterio->tobler>=0.11.2->pysal) (70.0.0)\n",
            "Requirement already satisfied: fiona in c:\\users\\user\\appdata\\local\\programs\\python\\python312\\lib\\site-packages (from rasterstats->tobler>=0.11.2->pysal) (1.10.1)\n",
            "Requirement already satisfied: simplejson in c:\\users\\user\\appdata\\local\\programs\\python\\python312\\lib\\site-packages (from rasterstats->tobler>=0.11.2->pysal) (3.19.3)\n",
            "Requirement already satisfied: patsy>=0.5.6 in c:\\users\\user\\appdata\\local\\programs\\python\\python312\\lib\\site-packages (from statsmodels->tobler>=0.11.2->pysal) (0.5.6)\n",
            "Requirement already satisfied: mpmath<1.4,>=1.1.0 in c:\\users\\user\\appdata\\local\\programs\\python\\python312\\lib\\site-packages (from sympy->quantecon>=0.4.7->giddy>=2.3.5->pysal) (1.3.0)\n"
          ]
        },
        {
          "output_type": "stream",
          "name": "stderr",
          "text": [
            "\n",
            "[notice] A new release of pip is available: 24.0 -> 24.2\n",
            "[notice] To update, run: python.exe -m pip install --upgrade pip\n"
          ]
        },
        {
          "output_type": "stream",
          "name": "stdout",
          "text": [
            "Requirement already satisfied: contextily in c:\\users\\user\\appdata\\local\\programs\\python\\python312\\lib\\site-packages (1.6.2)\n",
            "Requirement already satisfied: geopy in c:\\users\\user\\appdata\\local\\programs\\python\\python312\\lib\\site-packages (from contextily) (2.4.1)\n",
            "Requirement already satisfied: matplotlib in c:\\users\\user\\appdata\\local\\programs\\python\\python312\\lib\\site-packages (from contextily) (3.9.1)\n",
            "Requirement already satisfied: mercantile in c:\\users\\user\\appdata\\local\\programs\\python\\python312\\lib\\site-packages (from contextily) (1.2.1)\n",
            "Requirement already satisfied: pillow in c:\\users\\user\\appdata\\local\\programs\\python\\python312\\lib\\site-packages (from contextily) (10.4.0)\n",
            "Requirement already satisfied: rasterio in c:\\users\\user\\appdata\\local\\programs\\python\\python312\\lib\\site-packages (from contextily) (1.3.11)\n",
            "Requirement already satisfied: requests in c:\\users\\user\\appdata\\local\\programs\\python\\python312\\lib\\site-packages (from contextily) (2.32.3)\n",
            "Requirement already satisfied: joblib in c:\\users\\user\\appdata\\local\\programs\\python\\python312\\lib\\site-packages (from contextily) (1.4.2)\n",
            "Requirement already satisfied: xyzservices in c:\\users\\user\\appdata\\local\\programs\\python\\python312\\lib\\site-packages (from contextily) (2024.9.0)\n",
            "Requirement already satisfied: geographiclib<3,>=1.52 in c:\\users\\user\\appdata\\local\\programs\\python\\python312\\lib\\site-packages (from geopy->contextily) (2.0)\n",
            "Requirement already satisfied: contourpy>=1.0.1 in c:\\users\\user\\appdata\\local\\programs\\python\\python312\\lib\\site-packages (from matplotlib->contextily) (1.2.1)\n",
            "Requirement already satisfied: cycler>=0.10 in c:\\users\\user\\appdata\\local\\programs\\python\\python312\\lib\\site-packages (from matplotlib->contextily) (0.12.1)\n",
            "Requirement already satisfied: fonttools>=4.22.0 in c:\\users\\user\\appdata\\local\\programs\\python\\python312\\lib\\site-packages (from matplotlib->contextily) (4.53.1)\n",
            "Requirement already satisfied: kiwisolver>=1.3.1 in c:\\users\\user\\appdata\\local\\programs\\python\\python312\\lib\\site-packages (from matplotlib->contextily) (1.4.5)\n",
            "Requirement already satisfied: numpy>=1.23 in c:\\users\\user\\appdata\\local\\programs\\python\\python312\\lib\\site-packages (from matplotlib->contextily) (2.0.1)\n",
            "Requirement already satisfied: packaging>=20.0 in c:\\users\\user\\appdata\\local\\programs\\python\\python312\\lib\\site-packages (from matplotlib->contextily) (24.1)\n",
            "Requirement already satisfied: pyparsing>=2.3.1 in c:\\users\\user\\appdata\\local\\programs\\python\\python312\\lib\\site-packages (from matplotlib->contextily) (3.1.2)\n",
            "Requirement already satisfied: python-dateutil>=2.7 in c:\\users\\user\\appdata\\local\\programs\\python\\python312\\lib\\site-packages (from matplotlib->contextily) (2.9.0.post0)\n",
            "Requirement already satisfied: click>=3.0 in c:\\users\\user\\appdata\\local\\programs\\python\\python312\\lib\\site-packages (from mercantile->contextily) (8.1.7)\n",
            "Requirement already satisfied: affine in c:\\users\\user\\appdata\\local\\programs\\python\\python312\\lib\\site-packages (from rasterio->contextily) (2.4.0)\n",
            "Requirement already satisfied: attrs in c:\\users\\user\\appdata\\local\\programs\\python\\python312\\lib\\site-packages (from rasterio->contextily) (23.2.0)\n",
            "Requirement already satisfied: certifi in c:\\users\\user\\appdata\\local\\programs\\python\\python312\\lib\\site-packages (from rasterio->contextily) (2024.6.2)\n",
            "Requirement already satisfied: cligj>=0.5 in c:\\users\\user\\appdata\\local\\programs\\python\\python312\\lib\\site-packages (from rasterio->contextily) (0.7.2)\n",
            "Requirement already satisfied: snuggs>=1.4.1 in c:\\users\\user\\appdata\\local\\programs\\python\\python312\\lib\\site-packages (from rasterio->contextily) (1.4.7)\n",
            "Requirement already satisfied: click-plugins in c:\\users\\user\\appdata\\local\\programs\\python\\python312\\lib\\site-packages (from rasterio->contextily) (1.1.1)\n",
            "Requirement already satisfied: setuptools in c:\\users\\user\\appdata\\local\\programs\\python\\python312\\lib\\site-packages (from rasterio->contextily) (70.0.0)\n",
            "Requirement already satisfied: charset-normalizer<4,>=2 in c:\\users\\user\\appdata\\local\\programs\\python\\python312\\lib\\site-packages (from requests->contextily) (3.3.2)\n",
            "Requirement already satisfied: idna<4,>=2.5 in c:\\users\\user\\appdata\\local\\programs\\python\\python312\\lib\\site-packages (from requests->contextily) (3.7)\n",
            "Requirement already satisfied: urllib3<3,>=1.21.1 in c:\\users\\user\\appdata\\local\\programs\\python\\python312\\lib\\site-packages (from requests->contextily) (2.2.2)\n",
            "Requirement already satisfied: colorama in c:\\users\\user\\appdata\\local\\programs\\python\\python312\\lib\\site-packages (from click>=3.0->mercantile->contextily) (0.4.6)\n",
            "Requirement already satisfied: six>=1.5 in c:\\users\\user\\appdata\\local\\programs\\python\\python312\\lib\\site-packages (from python-dateutil>=2.7->matplotlib->contextily) (1.16.0)\n"
          ]
        },
        {
          "output_type": "stream",
          "name": "stderr",
          "text": [
            "\n",
            "[notice] A new release of pip is available: 24.0 -> 24.2\n",
            "[notice] To update, run: python.exe -m pip install --upgrade pip\n"
          ]
        },
        {
          "output_type": "stream",
          "name": "stdout",
          "text": [
            "Requirement already satisfied: jupyterlab in c:\\users\\user\\appdata\\local\\programs\\python\\python312\\lib\\site-packages (4.2.2)\n",
            "Requirement already satisfied: async-lru>=1.0.0 in c:\\users\\user\\appdata\\local\\programs\\python\\python312\\lib\\site-packages (from jupyterlab) (2.0.4)\n",
            "Requirement already satisfied: httpx>=0.25.0 in c:\\users\\user\\appdata\\local\\programs\\python\\python312\\lib\\site-packages (from jupyterlab) (0.27.0)\n",
            "Requirement already satisfied: ipykernel>=6.5.0 in c:\\users\\user\\appdata\\local\\programs\\python\\python312\\lib\\site-packages (from jupyterlab) (6.29.4)\n",
            "Requirement already satisfied: jinja2>=3.0.3 in c:\\users\\user\\appdata\\local\\programs\\python\\python312\\lib\\site-packages (from jupyterlab) (3.1.4)\n",
            "Requirement already satisfied: jupyter-core in c:\\users\\user\\appdata\\local\\programs\\python\\python312\\lib\\site-packages (from jupyterlab) (5.7.2)\n",
            "Requirement already satisfied: jupyter-lsp>=2.0.0 in c:\\users\\user\\appdata\\local\\programs\\python\\python312\\lib\\site-packages (from jupyterlab) (2.2.5)\n",
            "Requirement already satisfied: jupyter-server<3,>=2.4.0 in c:\\users\\user\\appdata\\local\\programs\\python\\python312\\lib\\site-packages (from jupyterlab) (2.14.1)\n",
            "Requirement already satisfied: jupyterlab-server<3,>=2.27.1 in c:\\users\\user\\appdata\\local\\programs\\python\\python312\\lib\\site-packages (from jupyterlab) (2.27.2)\n",
            "Requirement already satisfied: notebook-shim>=0.2 in c:\\users\\user\\appdata\\local\\programs\\python\\python312\\lib\\site-packages (from jupyterlab) (0.2.4)\n",
            "Requirement already satisfied: packaging in c:\\users\\user\\appdata\\local\\programs\\python\\python312\\lib\\site-packages (from jupyterlab) (24.1)\n",
            "Requirement already satisfied: setuptools>=40.1.0 in c:\\users\\user\\appdata\\local\\programs\\python\\python312\\lib\\site-packages (from jupyterlab) (70.0.0)\n",
            "Requirement already satisfied: tornado>=6.2.0 in c:\\users\\user\\appdata\\local\\programs\\python\\python312\\lib\\site-packages (from jupyterlab) (6.4.1)\n",
            "Requirement already satisfied: traitlets in c:\\users\\user\\appdata\\local\\programs\\python\\python312\\lib\\site-packages (from jupyterlab) (5.14.3)\n",
            "Requirement already satisfied: anyio in c:\\users\\user\\appdata\\local\\programs\\python\\python312\\lib\\site-packages (from httpx>=0.25.0->jupyterlab) (4.4.0)\n",
            "Requirement already satisfied: certifi in c:\\users\\user\\appdata\\local\\programs\\python\\python312\\lib\\site-packages (from httpx>=0.25.0->jupyterlab) (2024.6.2)\n",
            "Requirement already satisfied: httpcore==1.* in c:\\users\\user\\appdata\\local\\programs\\python\\python312\\lib\\site-packages (from httpx>=0.25.0->jupyterlab) (1.0.5)\n",
            "Requirement already satisfied: idna in c:\\users\\user\\appdata\\local\\programs\\python\\python312\\lib\\site-packages (from httpx>=0.25.0->jupyterlab) (3.7)\n",
            "Requirement already satisfied: sniffio in c:\\users\\user\\appdata\\local\\programs\\python\\python312\\lib\\site-packages (from httpx>=0.25.0->jupyterlab) (1.3.1)\n",
            "Requirement already satisfied: h11<0.15,>=0.13 in c:\\users\\user\\appdata\\local\\programs\\python\\python312\\lib\\site-packages (from httpcore==1.*->httpx>=0.25.0->jupyterlab) (0.14.0)\n",
            "Requirement already satisfied: comm>=0.1.1 in c:\\users\\user\\appdata\\local\\programs\\python\\python312\\lib\\site-packages (from ipykernel>=6.5.0->jupyterlab) (0.2.2)\n",
            "Requirement already satisfied: debugpy>=1.6.5 in c:\\users\\user\\appdata\\local\\programs\\python\\python312\\lib\\site-packages (from ipykernel>=6.5.0->jupyterlab) (1.8.1)\n",
            "Requirement already satisfied: ipython>=7.23.1 in c:\\users\\user\\appdata\\local\\programs\\python\\python312\\lib\\site-packages (from ipykernel>=6.5.0->jupyterlab) (8.25.0)\n",
            "Requirement already satisfied: jupyter-client>=6.1.12 in c:\\users\\user\\appdata\\local\\programs\\python\\python312\\lib\\site-packages (from ipykernel>=6.5.0->jupyterlab) (8.6.2)\n",
            "Requirement already satisfied: matplotlib-inline>=0.1 in c:\\users\\user\\appdata\\local\\programs\\python\\python312\\lib\\site-packages (from ipykernel>=6.5.0->jupyterlab) (0.1.7)\n",
            "Requirement already satisfied: nest-asyncio in c:\\users\\user\\appdata\\local\\programs\\python\\python312\\lib\\site-packages (from ipykernel>=6.5.0->jupyterlab) (1.6.0)\n",
            "Requirement already satisfied: psutil in c:\\users\\user\\appdata\\local\\programs\\python\\python312\\lib\\site-packages (from ipykernel>=6.5.0->jupyterlab) (6.0.0)\n",
            "Requirement already satisfied: pyzmq>=24 in c:\\users\\user\\appdata\\local\\programs\\python\\python312\\lib\\site-packages (from ipykernel>=6.5.0->jupyterlab) (26.0.3)\n",
            "Requirement already satisfied: MarkupSafe>=2.0 in c:\\users\\user\\appdata\\local\\programs\\python\\python312\\lib\\site-packages (from jinja2>=3.0.3->jupyterlab) (2.1.5)\n",
            "Requirement already satisfied: platformdirs>=2.5 in c:\\users\\user\\appdata\\local\\programs\\python\\python312\\lib\\site-packages (from jupyter-core->jupyterlab) (4.2.2)\n",
            "Requirement already satisfied: pywin32>=300 in c:\\users\\user\\appdata\\local\\programs\\python\\python312\\lib\\site-packages (from jupyter-core->jupyterlab) (306)\n",
            "Requirement already satisfied: argon2-cffi>=21.1 in c:\\users\\user\\appdata\\local\\programs\\python\\python312\\lib\\site-packages (from jupyter-server<3,>=2.4.0->jupyterlab) (23.1.0)\n",
            "Requirement already satisfied: jupyter-events>=0.9.0 in c:\\users\\user\\appdata\\local\\programs\\python\\python312\\lib\\site-packages (from jupyter-server<3,>=2.4.0->jupyterlab) (0.10.0)\n",
            "Requirement already satisfied: jupyter-server-terminals>=0.4.4 in c:\\users\\user\\appdata\\local\\programs\\python\\python312\\lib\\site-packages (from jupyter-server<3,>=2.4.0->jupyterlab) (0.5.3)\n",
            "Requirement already satisfied: nbconvert>=6.4.4 in c:\\users\\user\\appdata\\local\\programs\\python\\python312\\lib\\site-packages (from jupyter-server<3,>=2.4.0->jupyterlab) (7.16.4)\n",
            "Requirement already satisfied: nbformat>=5.3.0 in c:\\users\\user\\appdata\\local\\programs\\python\\python312\\lib\\site-packages (from jupyter-server<3,>=2.4.0->jupyterlab) (5.10.4)\n",
            "Requirement already satisfied: overrides>=5.0 in c:\\users\\user\\appdata\\local\\programs\\python\\python312\\lib\\site-packages (from jupyter-server<3,>=2.4.0->jupyterlab) (7.7.0)\n",
            "Requirement already satisfied: prometheus-client>=0.9 in c:\\users\\user\\appdata\\local\\programs\\python\\python312\\lib\\site-packages (from jupyter-server<3,>=2.4.0->jupyterlab) (0.20.0)\n",
            "Requirement already satisfied: pywinpty>=2.0.1 in c:\\users\\user\\appdata\\local\\programs\\python\\python312\\lib\\site-packages (from jupyter-server<3,>=2.4.0->jupyterlab) (2.0.13)\n",
            "Requirement already satisfied: send2trash>=1.8.2 in c:\\users\\user\\appdata\\local\\programs\\python\\python312\\lib\\site-packages (from jupyter-server<3,>=2.4.0->jupyterlab) (1.8.3)\n",
            "Requirement already satisfied: terminado>=0.8.3 in c:\\users\\user\\appdata\\local\\programs\\python\\python312\\lib\\site-packages (from jupyter-server<3,>=2.4.0->jupyterlab) (0.18.1)\n",
            "Requirement already satisfied: websocket-client>=1.7 in c:\\users\\user\\appdata\\local\\programs\\python\\python312\\lib\\site-packages (from jupyter-server<3,>=2.4.0->jupyterlab) (1.8.0)\n",
            "Requirement already satisfied: babel>=2.10 in c:\\users\\user\\appdata\\local\\programs\\python\\python312\\lib\\site-packages (from jupyterlab-server<3,>=2.27.1->jupyterlab) (2.15.0)\n",
            "Requirement already satisfied: json5>=0.9.0 in c:\\users\\user\\appdata\\local\\programs\\python\\python312\\lib\\site-packages (from jupyterlab-server<3,>=2.27.1->jupyterlab) (0.9.25)\n",
            "Requirement already satisfied: jsonschema>=4.18.0 in c:\\users\\user\\appdata\\local\\programs\\python\\python312\\lib\\site-packages (from jupyterlab-server<3,>=2.27.1->jupyterlab) (4.22.0)\n",
            "Requirement already satisfied: requests>=2.31 in c:\\users\\user\\appdata\\local\\programs\\python\\python312\\lib\\site-packages (from jupyterlab-server<3,>=2.27.1->jupyterlab) (2.32.3)\n",
            "Requirement already satisfied: argon2-cffi-bindings in c:\\users\\user\\appdata\\local\\programs\\python\\python312\\lib\\site-packages (from argon2-cffi>=21.1->jupyter-server<3,>=2.4.0->jupyterlab) (21.2.0)\n",
            "Requirement already satisfied: decorator in c:\\users\\user\\appdata\\local\\programs\\python\\python312\\lib\\site-packages (from ipython>=7.23.1->ipykernel>=6.5.0->jupyterlab) (5.1.1)\n",
            "Requirement already satisfied: jedi>=0.16 in c:\\users\\user\\appdata\\local\\programs\\python\\python312\\lib\\site-packages (from ipython>=7.23.1->ipykernel>=6.5.0->jupyterlab) (0.19.1)\n",
            "Requirement already satisfied: prompt-toolkit<3.1.0,>=3.0.41 in c:\\users\\user\\appdata\\local\\programs\\python\\python312\\lib\\site-packages (from ipython>=7.23.1->ipykernel>=6.5.0->jupyterlab) (3.0.47)\n",
            "Requirement already satisfied: pygments>=2.4.0 in c:\\users\\user\\appdata\\local\\programs\\python\\python312\\lib\\site-packages (from ipython>=7.23.1->ipykernel>=6.5.0->jupyterlab) (2.18.0)\n",
            "Requirement already satisfied: stack-data in c:\\users\\user\\appdata\\local\\programs\\python\\python312\\lib\\site-packages (from ipython>=7.23.1->ipykernel>=6.5.0->jupyterlab) (0.6.3)\n",
            "Requirement already satisfied: colorama in c:\\users\\user\\appdata\\local\\programs\\python\\python312\\lib\\site-packages (from ipython>=7.23.1->ipykernel>=6.5.0->jupyterlab) (0.4.6)\n",
            "Requirement already satisfied: attrs>=22.2.0 in c:\\users\\user\\appdata\\local\\programs\\python\\python312\\lib\\site-packages (from jsonschema>=4.18.0->jupyterlab-server<3,>=2.27.1->jupyterlab) (23.2.0)\n",
            "Requirement already satisfied: jsonschema-specifications>=2023.03.6 in c:\\users\\user\\appdata\\local\\programs\\python\\python312\\lib\\site-packages (from jsonschema>=4.18.0->jupyterlab-server<3,>=2.27.1->jupyterlab) (2023.12.1)\n",
            "Requirement already satisfied: referencing>=0.28.4 in c:\\users\\user\\appdata\\local\\programs\\python\\python312\\lib\\site-packages (from jsonschema>=4.18.0->jupyterlab-server<3,>=2.27.1->jupyterlab) (0.35.1)\n",
            "Requirement already satisfied: rpds-py>=0.7.1 in c:\\users\\user\\appdata\\local\\programs\\python\\python312\\lib\\site-packages (from jsonschema>=4.18.0->jupyterlab-server<3,>=2.27.1->jupyterlab) (0.18.1)\n",
            "Requirement already satisfied: python-dateutil>=2.8.2 in c:\\users\\user\\appdata\\local\\programs\\python\\python312\\lib\\site-packages (from jupyter-client>=6.1.12->ipykernel>=6.5.0->jupyterlab) (2.9.0.post0)\n",
            "Requirement already satisfied: python-json-logger>=2.0.4 in c:\\users\\user\\appdata\\local\\programs\\python\\python312\\lib\\site-packages (from jupyter-events>=0.9.0->jupyter-server<3,>=2.4.0->jupyterlab) (2.0.7)\n",
            "Requirement already satisfied: pyyaml>=5.3 in c:\\users\\user\\appdata\\local\\programs\\python\\python312\\lib\\site-packages (from jupyter-events>=0.9.0->jupyter-server<3,>=2.4.0->jupyterlab) (6.0.1)\n",
            "Requirement already satisfied: rfc3339-validator in c:\\users\\user\\appdata\\local\\programs\\python\\python312\\lib\\site-packages (from jupyter-events>=0.9.0->jupyter-server<3,>=2.4.0->jupyterlab) (0.1.4)\n",
            "Requirement already satisfied: rfc3986-validator>=0.1.1 in c:\\users\\user\\appdata\\local\\programs\\python\\python312\\lib\\site-packages (from jupyter-events>=0.9.0->jupyter-server<3,>=2.4.0->jupyterlab) (0.1.1)\n",
            "Requirement already satisfied: beautifulsoup4 in c:\\users\\user\\appdata\\local\\programs\\python\\python312\\lib\\site-packages (from nbconvert>=6.4.4->jupyter-server<3,>=2.4.0->jupyterlab) (4.12.3)\n",
            "Requirement already satisfied: bleach!=5.0.0 in c:\\users\\user\\appdata\\local\\programs\\python\\python312\\lib\\site-packages (from nbconvert>=6.4.4->jupyter-server<3,>=2.4.0->jupyterlab) (6.1.0)\n",
            "Requirement already satisfied: defusedxml in c:\\users\\user\\appdata\\local\\programs\\python\\python312\\lib\\site-packages (from nbconvert>=6.4.4->jupyter-server<3,>=2.4.0->jupyterlab) (0.7.1)\n",
            "Requirement already satisfied: jupyterlab-pygments in c:\\users\\user\\appdata\\local\\programs\\python\\python312\\lib\\site-packages (from nbconvert>=6.4.4->jupyter-server<3,>=2.4.0->jupyterlab) (0.3.0)\n",
            "Requirement already satisfied: mistune<4,>=2.0.3 in c:\\users\\user\\appdata\\local\\programs\\python\\python312\\lib\\site-packages (from nbconvert>=6.4.4->jupyter-server<3,>=2.4.0->jupyterlab) (3.0.2)\n",
            "Requirement already satisfied: nbclient>=0.5.0 in c:\\users\\user\\appdata\\local\\programs\\python\\python312\\lib\\site-packages (from nbconvert>=6.4.4->jupyter-server<3,>=2.4.0->jupyterlab) (0.10.0)\n",
            "Requirement already satisfied: pandocfilters>=1.4.1 in c:\\users\\user\\appdata\\local\\programs\\python\\python312\\lib\\site-packages (from nbconvert>=6.4.4->jupyter-server<3,>=2.4.0->jupyterlab) (1.5.1)\n",
            "Requirement already satisfied: tinycss2 in c:\\users\\user\\appdata\\local\\programs\\python\\python312\\lib\\site-packages (from nbconvert>=6.4.4->jupyter-server<3,>=2.4.0->jupyterlab) (1.3.0)\n",
            "Requirement already satisfied: fastjsonschema>=2.15 in c:\\users\\user\\appdata\\local\\programs\\python\\python312\\lib\\site-packages (from nbformat>=5.3.0->jupyter-server<3,>=2.4.0->jupyterlab) (2.20.0)\n",
            "Requirement already satisfied: charset-normalizer<4,>=2 in c:\\users\\user\\appdata\\local\\programs\\python\\python312\\lib\\site-packages (from requests>=2.31->jupyterlab-server<3,>=2.27.1->jupyterlab) (3.3.2)\n",
            "Requirement already satisfied: urllib3<3,>=1.21.1 in c:\\users\\user\\appdata\\local\\programs\\python\\python312\\lib\\site-packages (from requests>=2.31->jupyterlab-server<3,>=2.27.1->jupyterlab) (2.2.2)\n",
            "Requirement already satisfied: six>=1.9.0 in c:\\users\\user\\appdata\\local\\programs\\python\\python312\\lib\\site-packages (from bleach!=5.0.0->nbconvert>=6.4.4->jupyter-server<3,>=2.4.0->jupyterlab) (1.16.0)\n",
            "Requirement already satisfied: webencodings in c:\\users\\user\\appdata\\local\\programs\\python\\python312\\lib\\site-packages (from bleach!=5.0.0->nbconvert>=6.4.4->jupyter-server<3,>=2.4.0->jupyterlab) (0.5.1)\n",
            "Requirement already satisfied: parso<0.9.0,>=0.8.3 in c:\\users\\user\\appdata\\local\\programs\\python\\python312\\lib\\site-packages (from jedi>=0.16->ipython>=7.23.1->ipykernel>=6.5.0->jupyterlab) (0.8.4)\n",
            "Requirement already satisfied: fqdn in c:\\users\\user\\appdata\\local\\programs\\python\\python312\\lib\\site-packages (from jsonschema[format-nongpl]>=4.18.0->jupyter-events>=0.9.0->jupyter-server<3,>=2.4.0->jupyterlab) (1.5.1)\n",
            "Requirement already satisfied: isoduration in c:\\users\\user\\appdata\\local\\programs\\python\\python312\\lib\\site-packages (from jsonschema[format-nongpl]>=4.18.0->jupyter-events>=0.9.0->jupyter-server<3,>=2.4.0->jupyterlab) (20.11.0)\n",
            "Requirement already satisfied: jsonpointer>1.13 in c:\\users\\user\\appdata\\local\\programs\\python\\python312\\lib\\site-packages (from jsonschema[format-nongpl]>=4.18.0->jupyter-events>=0.9.0->jupyter-server<3,>=2.4.0->jupyterlab) (3.0.0)\n",
            "Requirement already satisfied: uri-template in c:\\users\\user\\appdata\\local\\programs\\python\\python312\\lib\\site-packages (from jsonschema[format-nongpl]>=4.18.0->jupyter-events>=0.9.0->jupyter-server<3,>=2.4.0->jupyterlab) (1.3.0)\n",
            "Requirement already satisfied: webcolors>=1.11 in c:\\users\\user\\appdata\\local\\programs\\python\\python312\\lib\\site-packages (from jsonschema[format-nongpl]>=4.18.0->jupyter-events>=0.9.0->jupyter-server<3,>=2.4.0->jupyterlab) (24.6.0)\n",
            "Requirement already satisfied: wcwidth in c:\\users\\user\\appdata\\local\\programs\\python\\python312\\lib\\site-packages (from prompt-toolkit<3.1.0,>=3.0.41->ipython>=7.23.1->ipykernel>=6.5.0->jupyterlab) (0.2.13)\n",
            "Requirement already satisfied: cffi>=1.0.1 in c:\\users\\user\\appdata\\local\\programs\\python\\python312\\lib\\site-packages (from argon2-cffi-bindings->argon2-cffi>=21.1->jupyter-server<3,>=2.4.0->jupyterlab) (1.16.0)\n",
            "Requirement already satisfied: soupsieve>1.2 in c:\\users\\user\\appdata\\local\\programs\\python\\python312\\lib\\site-packages (from beautifulsoup4->nbconvert>=6.4.4->jupyter-server<3,>=2.4.0->jupyterlab) (2.5)\n",
            "Requirement already satisfied: executing>=1.2.0 in c:\\users\\user\\appdata\\local\\programs\\python\\python312\\lib\\site-packages (from stack-data->ipython>=7.23.1->ipykernel>=6.5.0->jupyterlab) (2.0.1)\n",
            "Requirement already satisfied: asttokens>=2.1.0 in c:\\users\\user\\appdata\\local\\programs\\python\\python312\\lib\\site-packages (from stack-data->ipython>=7.23.1->ipykernel>=6.5.0->jupyterlab) (2.4.1)\n",
            "Requirement already satisfied: pure-eval in c:\\users\\user\\appdata\\local\\programs\\python\\python312\\lib\\site-packages (from stack-data->ipython>=7.23.1->ipykernel>=6.5.0->jupyterlab) (0.2.2)\n",
            "Requirement already satisfied: pycparser in c:\\users\\user\\appdata\\local\\programs\\python\\python312\\lib\\site-packages (from cffi>=1.0.1->argon2-cffi-bindings->argon2-cffi>=21.1->jupyter-server<3,>=2.4.0->jupyterlab) (2.22)\n",
            "Requirement already satisfied: arrow>=0.15.0 in c:\\users\\user\\appdata\\local\\programs\\python\\python312\\lib\\site-packages (from isoduration->jsonschema[format-nongpl]>=4.18.0->jupyter-events>=0.9.0->jupyter-server<3,>=2.4.0->jupyterlab) (1.3.0)\n",
            "Requirement already satisfied: types-python-dateutil>=2.8.10 in c:\\users\\user\\appdata\\local\\programs\\python\\python312\\lib\\site-packages (from arrow>=0.15.0->isoduration->jsonschema[format-nongpl]>=4.18.0->jupyter-events>=0.9.0->jupyter-server<3,>=2.4.0->jupyterlab) (2.9.0.20240316)\n"
          ]
        },
        {
          "output_type": "stream",
          "name": "stderr",
          "text": [
            "\n",
            "[notice] A new release of pip is available: 24.0 -> 24.2\n",
            "[notice] To update, run: python.exe -m pip install --upgrade pip\n"
          ]
        },
        {
          "output_type": "stream",
          "name": "stdout",
          "text": [
            "Requirement already satisfied: geopandas in c:\\users\\user\\appdata\\local\\programs\\python\\python312\\lib\\site-packages (1.0.1)\n",
            "Requirement already satisfied: numpy>=1.22 in c:\\users\\user\\appdata\\local\\programs\\python\\python312\\lib\\site-packages (from geopandas) (2.0.1)\n",
            "Requirement already satisfied: pyogrio>=0.7.2 in c:\\users\\user\\appdata\\local\\programs\\python\\python312\\lib\\site-packages (from geopandas) (0.9.0)\n",
            "Requirement already satisfied: packaging in c:\\users\\user\\appdata\\local\\programs\\python\\python312\\lib\\site-packages (from geopandas) (24.1)\n",
            "Requirement already satisfied: pandas>=1.4.0 in c:\\users\\user\\appdata\\local\\programs\\python\\python312\\lib\\site-packages (from geopandas) (2.2.2)\n",
            "Requirement already satisfied: pyproj>=3.3.0 in c:\\users\\user\\appdata\\local\\programs\\python\\python312\\lib\\site-packages (from geopandas) (3.6.1)\n",
            "Requirement already satisfied: shapely>=2.0.0 in c:\\users\\user\\appdata\\local\\programs\\python\\python312\\lib\\site-packages (from geopandas) (2.0.6)\n",
            "Requirement already satisfied: python-dateutil>=2.8.2 in c:\\users\\user\\appdata\\local\\programs\\python\\python312\\lib\\site-packages (from pandas>=1.4.0->geopandas) (2.9.0.post0)\n",
            "Requirement already satisfied: pytz>=2020.1 in c:\\users\\user\\appdata\\local\\programs\\python\\python312\\lib\\site-packages (from pandas>=1.4.0->geopandas) (2024.1)\n",
            "Requirement already satisfied: tzdata>=2022.7 in c:\\users\\user\\appdata\\local\\programs\\python\\python312\\lib\\site-packages (from pandas>=1.4.0->geopandas) (2024.1)\n",
            "Requirement already satisfied: certifi in c:\\users\\user\\appdata\\local\\programs\\python\\python312\\lib\\site-packages (from pyogrio>=0.7.2->geopandas) (2024.6.2)\n",
            "Requirement already satisfied: six>=1.5 in c:\\users\\user\\appdata\\local\\programs\\python\\python312\\lib\\site-packages (from python-dateutil>=2.8.2->pandas>=1.4.0->geopandas) (1.16.0)\n"
          ]
        },
        {
          "output_type": "stream",
          "name": "stderr",
          "text": [
            "\n",
            "[notice] A new release of pip is available: 24.0 -> 24.2\n",
            "[notice] To update, run: python.exe -m pip install --upgrade pip\n"
          ]
        },
        {
          "output_type": "stream",
          "name": "stdout",
          "text": [
            "Requirement already satisfied: pyreadr in c:\\users\\user\\appdata\\local\\programs\\python\\python312\\lib\\site-packages (0.5.2)\n",
            "Requirement already satisfied: pandas>=1.2.0 in c:\\users\\user\\appdata\\local\\programs\\python\\python312\\lib\\site-packages (from pyreadr) (2.2.2)\n",
            "Requirement already satisfied: numpy>=1.26.0 in c:\\users\\user\\appdata\\local\\programs\\python\\python312\\lib\\site-packages (from pandas>=1.2.0->pyreadr) (2.0.1)\n",
            "Requirement already satisfied: python-dateutil>=2.8.2 in c:\\users\\user\\appdata\\local\\programs\\python\\python312\\lib\\site-packages (from pandas>=1.2.0->pyreadr) (2.9.0.post0)\n",
            "Requirement already satisfied: pytz>=2020.1 in c:\\users\\user\\appdata\\local\\programs\\python\\python312\\lib\\site-packages (from pandas>=1.2.0->pyreadr) (2024.1)\n",
            "Requirement already satisfied: tzdata>=2022.7 in c:\\users\\user\\appdata\\local\\programs\\python\\python312\\lib\\site-packages (from pandas>=1.2.0->pyreadr) (2024.1)\n",
            "Requirement already satisfied: six>=1.5 in c:\\users\\user\\appdata\\local\\programs\\python\\python312\\lib\\site-packages (from python-dateutil>=2.8.2->pandas>=1.2.0->pyreadr) (1.16.0)\n"
          ]
        },
        {
          "output_type": "stream",
          "name": "stderr",
          "text": [
            "\n",
            "[notice] A new release of pip is available: 24.0 -> 24.2\n",
            "[notice] To update, run: python.exe -m pip install --upgrade pip\n"
          ]
        }
      ],
      "source": [
        "!pip install geehydro\n",
        "!pip install rioxarray\n",
        "!apt install gdal-bin python3-gdal\n",
        "!pip install fiona\n",
        "!pip install rasterio\n",
        "!pip install folium\n",
        "!pip install geemap\n",
        "!pip install cartopy\n",
        "!pip install mapclassify\n",
        "!pip install geoplot\n",
        "!pip install pyreadr\n",
        "!pip install pysal\n",
        "!pip install contextily\n",
        "!pip install jupyterlab\n",
        "!pip install geopandas\n",
        "!pip install pyreadr"
      ]
    },
    {
      "cell_type": "code",
      "source": [
        "#import all libraries\n",
        "import os\n",
        "import geopandas as gpd\n",
        "import numpy as np, pandas as pd\n",
        "import ee\n",
        "import geemap\n",
        "import pyreadr\n",
        "import matplotlib.pyplot as plt\n",
        "from datetime import datetime\n",
        "import geopandas as gpd\n",
        "import requests\n",
        "from io import BytesIO\n",
        "from scipy.stats import zscore\n",
        "from sklearn.preprocessing import MinMaxScaler\n",
        "from sklearn.cluster import DBSCAN\n",
        "from shapely.geometry import Point\n",
        "from sklearn.model_selection import train_test_split\n",
        "from sklearn.ensemble import RandomForestRegressor\n",
        "from sklearn.metrics import mean_squared_error, r2_score"
      ],
      "metadata": {
        "colab": {
          "base_uri": "https://localhost:8080/",
          "height": 17
        },
        "id": "8NqRj12_wU9s",
        "outputId": "b57a3467-c1a9-4def-97bb-8afe8ced8049"
      },
      "execution_count": 8,
      "outputs": [
        {
          "output_type": "display_data",
          "data": {
            "text/plain": [
              "<IPython.core.display.HTML object>"
            ],
            "text/html": [
              "\n",
              "            <style>\n",
              "                .geemap-dark {\n",
              "                    --jp-widgets-color: white;\n",
              "                    --jp-widgets-label-color: white;\n",
              "                    --jp-ui-font-color1: white;\n",
              "                    --jp-layout-color2: #454545;\n",
              "                    background-color: #383838;\n",
              "                }\n",
              "\n",
              "                .geemap-dark .jupyter-button {\n",
              "                    --jp-layout-color3: #383838;\n",
              "                }\n",
              "\n",
              "                .geemap-colab {\n",
              "                    background-color: var(--colab-primary-surface-color, white);\n",
              "                }\n",
              "\n",
              "                .geemap-colab .jupyter-button {\n",
              "                    --jp-layout-color3: var(--colab-primary-surface-color, white);\n",
              "                }\n",
              "            </style>\n",
              "            "
            ]
          },
          "metadata": {}
        }
      ]
    },
    {
      "cell_type": "code",
      "source": [
        "# Authenticate and initialize Earth Engine API\n",
        "try:\n",
        "    ee.Initialize(project='ee-cheaqi')\n",
        "except Exception as e:\n",
        "    ee.Authenticate()\n",
        "    ee.Initialize()"
      ],
      "metadata": {
        "colab": {
          "base_uri": "https://localhost:8080/",
          "height": 17
        },
        "id": "GL0U-L0OVrGe",
        "outputId": "8210f5c7-1f2a-47c9-c8b2-a79b50527173"
      },
      "execution_count": 9,
      "outputs": [
        {
          "output_type": "display_data",
          "data": {
            "text/plain": [
              "<IPython.core.display.HTML object>"
            ],
            "text/html": [
              "\n",
              "            <style>\n",
              "                .geemap-dark {\n",
              "                    --jp-widgets-color: white;\n",
              "                    --jp-widgets-label-color: white;\n",
              "                    --jp-ui-font-color1: white;\n",
              "                    --jp-layout-color2: #454545;\n",
              "                    background-color: #383838;\n",
              "                }\n",
              "\n",
              "                .geemap-dark .jupyter-button {\n",
              "                    --jp-layout-color3: #383838;\n",
              "                }\n",
              "\n",
              "                .geemap-colab {\n",
              "                    background-color: var(--colab-primary-surface-color, white);\n",
              "                }\n",
              "\n",
              "                .geemap-colab .jupyter-button {\n",
              "                    --jp-layout-color3: var(--colab-primary-surface-color, white);\n",
              "                }\n",
              "            </style>\n",
              "            "
            ]
          },
          "metadata": {}
        }
      ]
    },
    {
      "cell_type": "code",
      "source": [
        "# Check if notebook is running in Google Colab\n",
        "try:\n",
        "    import google.colab\n",
        "    IN_COLAB = True\n",
        "except:\n",
        "   IN_COLAB = False"
      ],
      "metadata": {
        "colab": {
          "base_uri": "https://localhost:8080/",
          "height": 17
        },
        "id": "tkCSw_JJV4_t",
        "outputId": "861385d1-914a-4f87-b51e-622734a7193d"
      },
      "execution_count": 10,
      "outputs": [
        {
          "output_type": "display_data",
          "data": {
            "text/plain": [
              "<IPython.core.display.HTML object>"
            ],
            "text/html": [
              "\n",
              "            <style>\n",
              "                .geemap-dark {\n",
              "                    --jp-widgets-color: white;\n",
              "                    --jp-widgets-label-color: white;\n",
              "                    --jp-ui-font-color1: white;\n",
              "                    --jp-layout-color2: #454545;\n",
              "                    background-color: #383838;\n",
              "                }\n",
              "\n",
              "                .geemap-dark .jupyter-button {\n",
              "                    --jp-layout-color3: #383838;\n",
              "                }\n",
              "\n",
              "                .geemap-colab {\n",
              "                    background-color: var(--colab-primary-surface-color, white);\n",
              "                }\n",
              "\n",
              "                .geemap-colab .jupyter-button {\n",
              "                    --jp-layout-color3: var(--colab-primary-surface-color, white);\n",
              "                }\n",
              "            </style>\n",
              "            "
            ]
          },
          "metadata": {}
        }
      ]
    },
    {
      "cell_type": "code",
      "source": [
        "if IN_COLAB:\n",
        "    # Use the token from Github to clone the PRECISE repository with read/write access\n",
        "    from IPython.display import clear_output; user=\"Hbnyoni\"; token=input();\n",
        "    !git clone https://github.com/Hbnyoni/dynamic_indicators.git\n",
        "\n",
        "    clear_output()"
      ],
      "metadata": {
        "colab": {
          "base_uri": "https://localhost:8080/",
          "height": 17
        },
        "id": "-NRGTNbzWBVV",
        "outputId": "00cdceb1-3de0-4091-d74b-074f19d32912"
      },
      "execution_count": 11,
      "outputs": [
        {
          "output_type": "display_data",
          "data": {
            "text/plain": [
              "<IPython.core.display.HTML object>"
            ],
            "text/html": [
              "\n",
              "            <style>\n",
              "                .geemap-dark {\n",
              "                    --jp-widgets-color: white;\n",
              "                    --jp-widgets-label-color: white;\n",
              "                    --jp-ui-font-color1: white;\n",
              "                    --jp-layout-color2: #454545;\n",
              "                    background-color: #383838;\n",
              "                }\n",
              "\n",
              "                .geemap-dark .jupyter-button {\n",
              "                    --jp-layout-color3: #383838;\n",
              "                }\n",
              "\n",
              "                .geemap-colab {\n",
              "                    background-color: var(--colab-primary-surface-color, white);\n",
              "                }\n",
              "\n",
              "                .geemap-colab .jupyter-button {\n",
              "                    --jp-layout-color3: var(--colab-primary-surface-color, white);\n",
              "                }\n",
              "            </style>\n",
              "            "
            ]
          },
          "metadata": {}
        }
      ]
    },
    {
      "cell_type": "code",
      "source": [
        "# GitHub raw URL for the GeoPackage (replace with your actual link)\n",
        "url = 'https://github.com/Hbnyoni/dynamic_indicators/raw/main/shapefiles1/precise_villages.gpkg'\n",
        "\n",
        "# Download the file using requests\n",
        "response = requests.get(url)\n",
        "\n",
        "# Check if the request was successful\n",
        "if response.status_code == 200:\n",
        "    # Read the file using geopandas from the bytes content\n",
        "    with BytesIO(response.content) as f:\n",
        "        gdf = gpd.read_file(f, layer='Mozambique')  # Update layer if necessary\n",
        "\n",
        "    # Plot the geodataframe (optional)\n",
        "    gdf.plot()\n",
        "\n",
        "    # Get the bounding box of the shapefile\n",
        "    bbox = gdf.total_bounds  # total_bounds returns [minx, miny, maxx, maxy]\n",
        "\n",
        "    # Define the region of interest (ROI) as the bounding box of the shapefile\n",
        "    roi = ee.Geometry.Rectangle([bbox[0], bbox[1], bbox[2], bbox[3]])\n",
        "\n",
        "    # Print the bounding box for verification\n",
        "    print(f\"ROI Bounding Box: {bbox}\")\n",
        "\n",
        "else:\n",
        "    print(f\"Failed to download the file. Status code: {response.status_code}\")\n",
        "\n",
        "# Print the attribute table for reference (optional)\n",
        "print(gdf.head())"
      ],
      "metadata": {
        "colab": {
          "base_uri": "https://localhost:8080/",
          "height": 740
        },
        "outputId": "94cc1653-ada9-4b48-9d78-e58076c831ad",
        "id": "5mZoHI6Dg3m6"
      },
      "execution_count": 20,
      "outputs": [
        {
          "output_type": "display_data",
          "data": {
            "text/plain": [
              "<IPython.core.display.HTML object>"
            ],
            "text/html": [
              "\n",
              "            <style>\n",
              "                .geemap-dark {\n",
              "                    --jp-widgets-color: white;\n",
              "                    --jp-widgets-label-color: white;\n",
              "                    --jp-ui-font-color1: white;\n",
              "                    --jp-layout-color2: #454545;\n",
              "                    background-color: #383838;\n",
              "                }\n",
              "\n",
              "                .geemap-dark .jupyter-button {\n",
              "                    --jp-layout-color3: #383838;\n",
              "                }\n",
              "\n",
              "                .geemap-colab {\n",
              "                    background-color: var(--colab-primary-surface-color, white);\n",
              "                }\n",
              "\n",
              "                .geemap-colab .jupyter-button {\n",
              "                    --jp-layout-color3: var(--colab-primary-surface-color, white);\n",
              "                }\n",
              "            </style>\n",
              "            "
            ]
          },
          "metadata": {}
        },
        {
          "output_type": "stream",
          "name": "stdout",
          "text": [
            "ROI Bounding Box: [ 32.529671   -25.596207    32.964333   -24.86000923]\n",
            "  district      admin_post      locality         name  neighborhood_code  \\\n",
            "0  MANHIÇA  3 DE FEVEREIRO       Taninga    4º Bairro             258018   \n",
            "1  MANHIÇA         MALUANA  Maluana_sede       Pafene             258115   \n",
            "2   MAGUDE          MAGUDE      CHICHUCO      Chicuco             258058   \n",
            "3   MAGUDE          MAGUDE      MATCHABE  Bairro 2000             258031   \n",
            "4   MAGUDE          MAGUDE    MAGUIGUANE      Bangane             258048   \n",
            "\n",
            "                                            geometry  \n",
            "0  MULTIPOLYGON (((32.8443 -25.1629, 32.84846 -25...  \n",
            "1  MULTIPOLYGON (((32.65184 -25.54759, 32.65305 -...  \n",
            "2  MULTIPOLYGON (((32.64127 -25.11344, 32.64141 -...  \n",
            "3  MULTIPOLYGON (((32.67021 -25.01076, 32.66487 -...  \n",
            "4  MULTIPOLYGON (((32.73317 -24.90993, 32.72411 -...  \n"
          ]
        },
        {
          "output_type": "stream",
          "name": "stderr",
          "text": [
            "C:\\Users\\user\\AppData\\Local\\Programs\\Python\\Python312\\Lib\\site-packages\\pyogrio\\raw.py:196: RuntimeWarning: File /vsimem/e0bce01871374d899a364013b283779a has GPKG application_id, but non conformant file extension\n",
            "  return ogr_read(\n"
          ]
        },
        {
          "output_type": "display_data",
          "data": {
            "text/plain": [
              "<Figure size 640x480 with 1 Axes>"
            ],
            "image/png": "[encoded data removed]"
          },
          "metadata": {}
        }
      ]
    },
    {
      "cell_type": "code",
      "source": [
        "import pyreadr\n",
        "\n",
        "# Define the path to the RDS file\n",
        "input_rds_path = 'C:/Users/user/OneDrive/Documents/CHEAQI-MNCH/CHEAQI Project Docs/VALIDATIN AND SEGMENTATION PRECISE DATASETS/Validation/Dynamic Indicators/AOD/Mozambique/outdoor_data.rds'\n",
        "\n",
        "# Load the RDS file using pyreadr\n",
        "result = pyreadr.read_r(input_rds_path)\n",
        "\n",
        "# Extract the DataFrame (the object returned by pyreadr is a dictionary, we extract the first item)\n",
        "outdoor_data = list(result.values())[0]\n",
        "\n",
        "# Now 'outdoor_data' is a pandas DataFrame\n",
        "# Assuming the datetime column is named 'date_time', convert it to datetime format\n",
        "outdoor_data['date'] = pd.to_datetime(outdoor_data['date'], errors='coerce')\n",
        "\n",
        "# Create a new column 'date_only' that contains only the date portion\n",
        "outdoor_data['date_only'] = outdoor_data['date'].dt.strftime('%Y-%m-%d')\n",
        "\n",
        "# Save the resulting dataframe to a CSV file\n",
        "output_csv_path = 'C:/Users/user/OneDrive/Documents/CHEAQI-MNCH/CHEAQI Project Docs/VALIDATIN AND SEGMENTATION PRECISE DATASETS/Validation/Dynamic Indicators/AOD/Mozambique/Mozambique_with_date_only.csv'\n",
        "outdoor_data.to_csv(output_csv_path, index=False)\n",
        "\n",
        "print(f\"Data with new 'date_only' column saved to {output_csv_path}\")\n",
        "\n"
      ],
      "metadata": {
        "colab": {
          "base_uri": "https://localhost:8080/",
          "height": 55
        },
        "id": "_2XMtRgDWQSm",
        "outputId": "83084ed5-c75d-474c-dc05-2a3e09c66233"
      },
      "execution_count": 16,
      "outputs": [
        {
          "output_type": "display_data",
          "data": {
            "text/plain": [
              "<IPython.core.display.HTML object>"
            ],
            "text/html": [
              "\n",
              "            <style>\n",
              "                .geemap-dark {\n",
              "                    --jp-widgets-color: white;\n",
              "                    --jp-widgets-label-color: white;\n",
              "                    --jp-ui-font-color1: white;\n",
              "                    --jp-layout-color2: #454545;\n",
              "                    background-color: #383838;\n",
              "                }\n",
              "\n",
              "                .geemap-dark .jupyter-button {\n",
              "                    --jp-layout-color3: #383838;\n",
              "                }\n",
              "\n",
              "                .geemap-colab {\n",
              "                    background-color: var(--colab-primary-surface-color, white);\n",
              "                }\n",
              "\n",
              "                .geemap-colab .jupyter-button {\n",
              "                    --jp-layout-color3: var(--colab-primary-surface-color, white);\n",
              "                }\n",
              "            </style>\n",
              "            "
            ]
          },
          "metadata": {}
        },
        {
          "output_type": "stream",
          "name": "stdout",
          "text": [
            "Data with new 'date_only' column saved to C:/Users/user/OneDrive/Documents/CHEAQI-MNCH/CHEAQI Project Docs/VALIDATIN AND SEGMENTATION PRECISE DATASETS/Validation/Dynamic Indicators/AOD/Mozambique/Mozambique_with_date_only.csv\n"
          ]
        }
      ]
    },
    {
      "cell_type": "code",
      "source": [
        "## funtion to extract AOD Values ata same date using the lot lan\n",
        "import ee\n",
        "import pandas as pd\n",
        "import numpy as np\n",
        "\n",
        "# Initialize Earth Engine\n",
        "ee.Initialize()\n",
        "\n",
        "# Function to extract AOD values in batches\n",
        "def extract_aod_values_batch(start_date, end_date, roi, points_df, batch_size=10000, aod_band='Optical_Depth_047'):\n",
        "    \"\"\"\n",
        "    Extract AOD values from MODIS for a given region of interest (ROI) and date range in batches.\n",
        "\n",
        "    Args:\n",
        "    - start_date: Start date as a string in 'YYYY-MM-DD' format.\n",
        "    - end_date: End date as a string in 'YYYY-MM-DD' format.\n",
        "    - roi: Predefined region of interest (Earth Engine geometry object).\n",
        "    - points_df: DataFrame with 'lat' and 'lon' columns representing the points of interest.\n",
        "    - batch_size: Number of points to process in each batch.\n",
        "    - aod_band: AOD band to extract, default is 'Optical_Depth_047'.\n",
        "\n",
        "    Returns:\n",
        "    - DataFrame with AOD values and corresponding dates for each point.\n",
        "    \"\"\"\n",
        "\n",
        "    # Create an empty DataFrame to store results\n",
        "    all_results = pd.DataFrame()\n",
        "\n",
        "    # Split the points_df into batches\n",
        "    num_batches = int(np.ceil(len(points_df) / batch_size))\n",
        "\n",
        "    for batch_num in range(num_batches):\n",
        "        # Extract the batch of points\n",
        "        batch_df = points_df.iloc[batch_num * batch_size : (batch_num + 1) * batch_size]\n",
        "\n",
        "        # Initialize a list to hold the batch results\n",
        "        batch_results = []\n",
        "\n",
        "        # Process each point in the batch\n",
        "        for index, row in batch_df.iterrows():\n",
        "            lon, lat = row['lon'], row['lat']\n",
        "            point = ee.Geometry.Point([lon, lat])\n",
        "\n",
        "            # Load the MODIS AOD collection and filter by the date range and point location\n",
        "            modis_aod = ee.ImageCollection('MODIS/061/MCD19A2_GRANULES') \\\n",
        "                .select(aod_band) \\\n",
        "                .filterDate(start_date, end_date) \\\n",
        "                .filterBounds(point)\n",
        "\n",
        "            # Get the list of images for the given point\n",
        "            image_list = modis_aod.toList(modis_aod.size())\n",
        "\n",
        "            # Extract AOD values for each image\n",
        "            for i in range(image_list.size().getInfo()):\n",
        "                img = ee.Image(image_list.get(i))\n",
        "                date = img.date().format('YYYY-MM-dd').getInfo()\n",
        "\n",
        "                # Reduce the image to the point to get the AOD value\n",
        "                aod_value = img.reduceRegion(ee.Reducer.mean(), point, scale=500).get(aod_band).getInfo()\n",
        "\n",
        "                # Append the result along with the date and AOD value\n",
        "                batch_results.append({\n",
        "                    'lat': lat,\n",
        "                    'lon': lon,\n",
        "                    'date_time': date,  # Original date time\n",
        "                    'AOD_value': aod_value,\n",
        "                    'date_only': date  # Adding date only column, already formatted as 'YYYY-MM-DD'\n",
        "                })\n",
        "\n",
        "        # Convert the batch results to a DataFrame\n",
        "        batch_df_results = pd.DataFrame(batch_results)\n",
        "\n",
        "        # Append the batch results to the overall results\n",
        "        all_results = pd.concat([all_results, batch_df_results], ignore_index=True)\n",
        "\n",
        "        print(f\"Processed batch {batch_num + 1} of {num_batches}\")\n",
        "\n",
        "    return all_results\n",
        "\n",
        "# Load the points of interest from the previous CSV\n",
        "csv_path = 'C:/Users/user/OneDrive/Documents/CHEAQI-MNCH/CHEAQI Project Docs/VALIDATIN AND SEGMENTATION PRECISE DATASETS/Validation/Dynamic Indicators/AOD/Mozambique/Mozambique_with_date_only.csv'\n",
        "\n",
        "# Use low_memory=False to handle mixed types warning, or specify dtype explicitly\n",
        "points_df = pd.read_csv(csv_path, low_memory=False)\n",
        "\n",
        "# You can also explicitly specify dtype if necessary:\n",
        "# points_df = pd.read_csv(csv_path, dtype={'lat': 'float64', 'lon': 'float64'})\n",
        "\n",
        "# Define the date range for the dataset (January 1, 2022 - January 31, 2023)\n",
        "start_date = '2022-01-01'\n",
        "end_date = '2023-01-31'\n",
        "\n",
        "# Call the function to extract AOD values using the points from the previous CSV in larger batches\n",
        "batch_size = 10000  # Set the batch size to 10,000 or more to handle large datasets\n",
        "aod_results_df = extract_aod_values_batch(start_date, end_date, roi, points_df, batch_size=batch_size)\n",
        "\n",
        "# Save the results to a CSV with 'date_only' included\n",
        "aod_results_df.to_csv('aod_values_extracted_with_date_only.csv', index=False)\n",
        "\n",
        "# Display the extracted results\n",
        "print(aod_results_df)\n",
        "\n"
      ],
      "metadata": {
        "colab": {
          "base_uri": "https://localhost:8080/",
          "height": 17
        },
        "id": "LpGmLb5JY1pE",
        "outputId": "9a405b1a-327a-4db0-ea10-e679f46e801c"
      },
      "execution_count": null,
      "outputs": [
        {
          "output_type": "display_data",
          "data": {
            "text/plain": [
              "<IPython.core.display.HTML object>"
            ],
            "text/html": [
              "\n",
              "            <style>\n",
              "                .geemap-dark {\n",
              "                    --jp-widgets-color: white;\n",
              "                    --jp-widgets-label-color: white;\n",
              "                    --jp-ui-font-color1: white;\n",
              "                    --jp-layout-color2: #454545;\n",
              "                    background-color: #383838;\n",
              "                }\n",
              "\n",
              "                .geemap-dark .jupyter-button {\n",
              "                    --jp-layout-color3: #383838;\n",
              "                }\n",
              "\n",
              "                .geemap-colab {\n",
              "                    background-color: var(--colab-primary-surface-color, white);\n",
              "                }\n",
              "\n",
              "                .geemap-colab .jupyter-button {\n",
              "                    --jp-layout-color3: var(--colab-primary-surface-color, white);\n",
              "                }\n",
              "            </style>\n",
              "            "
            ]
          },
          "metadata": {}
        }
      ]
    },
    {
      "cell_type": "code",
      "source": [],
      "metadata": {
        "id": "cPPbmLLGiDUB"
      },
      "execution_count": null,
      "outputs": []
    }
  ]
}